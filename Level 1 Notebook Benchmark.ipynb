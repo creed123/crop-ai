{
 "cells": [
  {
   "cell_type": "markdown",
   "id": "626a022d-5469-4e2c-aba7-c6b00be60b54",
   "metadata": {},
   "source": [
    "# Level 1: Rice Crop Discovery Tool Benchmark Notebook"
   ]
  },
  {
   "cell_type": "markdown",
   "id": "ccfd5ecb-92da-4356-860f-64cec7534b45",
   "metadata": {},
   "source": [
    "## Challenge Level 1 Overview"
   ]
  },
  {
   "cell_type": "markdown",
   "id": "e854b5f4-ee16-40da-a6d1-81898cc52aae",
   "metadata": {},
   "source": [
    "<p align=\"justify\">Welcome to the EY Open Science Data Challenge 2023! This challenge consists of two levels – Level 1 and Level 2. This is the Level 1 challenge aimed at participants who are beginners or have intermediate skill sets in data science and programming. The goal of Level 1 is to predict the presence of rice crops at a given location using satellite data. By the time you complete this level, you will have developed a rice crop classification model, which can distinguish between rice and non-rice fields. \n",
    "</p>"
   ]
  },
  {
   "cell_type": "markdown",
   "id": "5f5c6226-0341-48c1-82b6-3fb000064462",
   "metadata": {},
   "source": [
    "<b>Challenge Aim: </b><p align=\"justify\"> <p>"
   ]
  },
  {
   "cell_type": "markdown",
   "id": "8bdd1b29",
   "metadata": {},
   "source": [
    "<p align=\"justify\">In this notebook, we will demonstrate a basic model workflow that can serve as a starting point for the challenge. The basic model has been built to predict rice crops against non-rice crops (which might include forest, other vegetation and water bodies) using features from the Sentinel-1 Radiometrically Terrain Corrected (RTC)  dataset as predictor variables. In this demonstration, we have used two features from the Sentinel-1 dataset, namely VV (Vertical polarization – Vertical polarization) and VH (Vertical polarization – Horizontal polarization) and trained a logistic regression model with these features. We have extracted the VV band and VH band data from the Sentinel-1 dataset for one day (21st March 2020), with an assumption that VV and VH values for this day are representative of VV and VH values for the entire year (2020) for a given location.\n",
    "\n",
    "Most of the functions presented in this notebook were adapted from the <a href=\"https://planetarycomputer.microsoft.com/dataset/sentinel-1-rtc#Example-Notebook\">Sentinel-1-RTC notebook</a> found in the Planetary Computer portal.</p>\n",
    "    \n",
    "<p align=\"justify\"> Please note that this notebook is just a starting point. We have made many assumptions in this notebook that you may think are not best for solving the challenge effectively. You are encouraged to modify these functions, rewrite them, or try an entirely new approach.</p>"
   ]
  },
  {
   "cell_type": "markdown",
   "id": "2cb152d6-21e5-46c6-931d-11e99e6a6798",
   "metadata": {},
   "source": [
    "## Load In Dependencies"
   ]
  },
  {
   "cell_type": "markdown",
   "id": "093dca36-dae9-4b87-9026-7508740cd746",
   "metadata": {},
   "source": [
    "To run this demonstration notebook, you will need to have the following packages imported below installed. This may take some time.  "
   ]
  },
  {
   "cell_type": "markdown",
   "id": "c546caac-b5a5-494f-95e8-19a01e117492",
   "metadata": {},
   "source": [
    "#### Note: Environment setup\n",
    "Running this notebook requires an API key.\n",
    "\n",
    "To use your API key locally, set the environment variable <i><b>PC_SDK_SUBSCRIPTION_KEY</i></b> or use <i><b>planetary_computer.settings.set_subscription_key(<YOUR API Key>)</i></b><br>\n",
    "See <a href=\"https://planetarycomputer.microsoft.com/docs/concepts/sas/#when-an-account-is-needed\">when an account is needed for more </a>, and <a href=\"https://planetarycomputer.microsoft.com/account/request\">request</a> an account if needed."
   ]
  },
  {
   "cell_type": "code",
   "execution_count": 49,
   "id": "3a03723e-78ae-4150-ba22-e2e485b95cdb",
   "metadata": {},
   "outputs": [],
   "source": [
    "# Supress Warnings\n",
    "import warnings\n",
    "warnings.filterwarnings('ignore')\n",
    "\n",
    "# Visualization\n",
    "import ipyleaflet\n",
    "import matplotlib.pyplot as plt\n",
    "from IPython.display import Image\n",
    "import seaborn as sns\n",
    "\n",
    "# Data Science\n",
    "import numpy as np\n",
    "import pandas as pd\n",
    "\n",
    "# Feature Engineering\n",
    "from sklearn.preprocessing import StandardScaler\n",
    "from sklearn.model_selection import train_test_split\n",
    "\n",
    "# Machine Learning\n",
    "from sklearn.linear_model import LogisticRegression\n",
    "from sklearn.metrics import f1_score, accuracy_score,classification_report,confusion_matrix\n",
    "\n",
    "# Planetary Computer Tools\n",
    "import pystac\n",
    "import pystac_client\n",
    "import odc\n",
    "from pystac_client import Client\n",
    "from pystac.extensions.eo import EOExtension as eo\n",
    "from odc.stac import stac_load\n",
    "import xarray as xr\n",
    "import planetary_computer as pc\n",
    "import yaml\n",
    "\n",
    "with open(\"api_key.yml\", 'r') as ymlfile:\n",
    "    cfg = yaml.load(ymlfile, Loader=yaml.FullLoader)\n",
    "\n",
    "# Pass your API key here\n",
    "pc.settings.set_subscription_key(cfg['planetary_computer']['key'])\n",
    "# Others\n",
    "import requests\n",
    "import rich.table\n",
    "from itertools import cycle\n",
    "from tqdm import tqdm\n",
    "tqdm.pandas()"
   ]
  },
  {
   "cell_type": "markdown",
   "id": "1c268cf6",
   "metadata": {},
   "source": [
    "## Response Variable"
   ]
  },
  {
   "cell_type": "markdown",
   "id": "f80dbf04",
   "metadata": {},
   "source": [
    "Before building the model, we need to load in the rice crop presence data. We have curated for you data from a certain region in Vietnam for the year 2020. The data consists of  geo locations (Latitude and Longitude) with a tag specifying if the crop present in each geo location is rice or not.  "
   ]
  },
  {
   "cell_type": "code",
   "execution_count": 50,
   "id": "0f1da678",
   "metadata": {},
   "outputs": [
    {
     "data": {
      "text/html": [
       "<div>\n",
       "<style scoped>\n",
       "    .dataframe tbody tr th:only-of-type {\n",
       "        vertical-align: middle;\n",
       "    }\n",
       "\n",
       "    .dataframe tbody tr th {\n",
       "        vertical-align: top;\n",
       "    }\n",
       "\n",
       "    .dataframe thead th {\n",
       "        text-align: right;\n",
       "    }\n",
       "</style>\n",
       "<table border=\"1\" class=\"dataframe\">\n",
       "  <thead>\n",
       "    <tr style=\"text-align: right;\">\n",
       "      <th></th>\n",
       "      <th>Latitude and Longitude</th>\n",
       "      <th>Class of Land</th>\n",
       "    </tr>\n",
       "  </thead>\n",
       "  <tbody>\n",
       "    <tr>\n",
       "      <th>0</th>\n",
       "      <td>(10.323727047081501, 105.2516346045924)</td>\n",
       "      <td>Rice</td>\n",
       "    </tr>\n",
       "    <tr>\n",
       "      <th>1</th>\n",
       "      <td>(10.322364360592521, 105.27843410554115)</td>\n",
       "      <td>Rice</td>\n",
       "    </tr>\n",
       "    <tr>\n",
       "      <th>2</th>\n",
       "      <td>(10.321455902933202, 105.25254306225168)</td>\n",
       "      <td>Rice</td>\n",
       "    </tr>\n",
       "    <tr>\n",
       "      <th>3</th>\n",
       "      <td>(10.324181275911162, 105.25118037576274)</td>\n",
       "      <td>Rice</td>\n",
       "    </tr>\n",
       "    <tr>\n",
       "      <th>4</th>\n",
       "      <td>(10.324635504740822, 105.27389181724476)</td>\n",
       "      <td>Rice</td>\n",
       "    </tr>\n",
       "  </tbody>\n",
       "</table>\n",
       "</div>"
      ],
      "text/plain": [
       "                     Latitude and Longitude Class of Land\n",
       "0   (10.323727047081501, 105.2516346045924)          Rice\n",
       "1  (10.322364360592521, 105.27843410554115)          Rice\n",
       "2  (10.321455902933202, 105.25254306225168)          Rice\n",
       "3  (10.324181275911162, 105.25118037576274)          Rice\n",
       "4  (10.324635504740822, 105.27389181724476)          Rice"
      ]
     },
     "execution_count": 50,
     "metadata": {},
     "output_type": "execute_result"
    }
   ],
   "source": [
    "crop_presence_data = pd.read_csv(\"./Data/Crop_Location_Data_20221201.csv\")\n",
    "crop_presence_data.head()"
   ]
  },
  {
   "cell_type": "markdown",
   "id": "b3b6812c-7137-4873-b4ed-2dcdd470209b",
   "metadata": {},
   "source": [
    "## Predictor Variables"
   ]
  },
  {
   "cell_type": "markdown",
   "id": "1487a9dc-1308-4c05-a69a-ccfe60bc9100",
   "metadata": {},
   "source": [
    "<p align =\"justify\">Now that we have our crop location data, it is time to gather the predictor variables from the Sentinel-1 dataset. For a more in-depth look regarding the Sentinel-1 dataset and how to query it, see the Sentinel-1 <a href=\"https://challenge.ey.com/api/v1/storage/admin-files/6403146221623637-63ca8d537b1fe300146c79d0-Sentinel%201%20Phenology.ipynb/\"> supplementary \n",
    "notebook</a>.\n",
    "    \n",
    "\n",
    "<p align = \"justify\">Sentinel-1 radar data penetrates through the clouds, thus helping us to get the band values with minimal atmospheric attenuation. Band values such as VV and VH help us in distinguishing between the rice and non rice crops. Hence we are choosing VV and VH as predictor variables for this experiment. \n",
    "        \n",
    "<ul>\n",
    "<li>VV - gamma naught values of signal transmitted with vertical polarization and received with vertical polarization with radiometric terrain correction applied.\n",
    "\n",
    "<li>VH - gamma naught values of signal transmitted with vertical polarization and received with horizontal polarization with radiometric terrain correction applied.\n",
    "</ul>"
   ]
  },
  {
   "cell_type": "markdown",
   "id": "04011667-99ae-4820-a635-d8d50f716fe3",
   "metadata": {},
   "source": [
    "<h4 style=\"color:rgb(195, 52, 235)\"><strong>Tip 1</strong></h4>\n",
    "<p align=\"justify\">Participants might explore other combinations of bands from the Sentinel-1 data. For example, you can use mathematical combinations of bands to generate various <a href=\"https://challenge.ey.com/api/v1/storage/admin-files/3868217534768359-63ca8dc8aea56e00146e3489-Comprehensive%20Guide%20-%20Satellite%20Data.docx\">vegetation indices </a> which can then be used as features in your model.\n"
   ]
  },
  {
   "cell_type": "markdown",
   "id": "0c85257f-4a48-49e8-8036-10e9a6b69894",
   "metadata": {},
   "source": [
    "### Accessing the Sentinel-1 Data"
   ]
  },
  {
   "cell_type": "markdown",
   "id": "5399737c-46bb-44b7-bda8-4253c827e66d",
   "metadata": {},
   "source": [
    "<p align = \"Justify\">To get the Sentinel-1 data, we write a function called <i><b>get_sentinel_data.</b></i> This function will fetch VV and VH band values for a particular location over the specified time window. In this example, we have extracted VV and VH values for a day (21st March 2020). </p>"
   ]
  },
  {
   "cell_type": "markdown",
   "id": "87f85d6d-6c72-438b-81f8-8aafb1265b0a",
   "metadata": {},
   "source": [
    "<h4 style=\"color:rgb(195, 52, 235)\"><strong>Tip 2</strong></h4>\n",
    "<p align=\"justify\"> Extract VV and VH band values for an entire year. Different land classes (e.g., agriculture, water, urban) will have different annual variability. This variability will be better than a single date for accurately identifying land classes. Please find below a demonstration of extracting data for a day (21st March 2020)."
   ]
  },
  {
   "cell_type": "code",
   "execution_count": 51,
   "id": "5e339a34-cfa7-4899-9165-63ca7c01bbb9",
   "metadata": {},
   "outputs": [],
   "source": [
    "def get_sentinel_data(latlong,time_slice):\n",
    "    '''\n",
    "    Returns VV and VH values for a given latitude and longitude \n",
    "    Attributes:\n",
    "    latlong - A tuple with 2 elements - latitude and longitude\n",
    "    time_slice - Timeframe for which the VV and VH values have to be extracted\n",
    "    assets - A list of bands to be extracted\n",
    "    '''\n",
    "\n",
    "    latlong=latlong.replace('(','').replace(')','').replace(' ','').split(',')\n",
    "    bbox_of_interest = (float(latlong[1]) , float(latlong[0]), float(latlong[1]) , float(latlong[0]))\n",
    "    time_of_interest = time_slice\n",
    "    catalog = pystac_client.Client.open(\n",
    "            \"https://planetarycomputer.microsoft.com/api/stac/v1\",\n",
    "    )\n",
    "    search = catalog.search(\n",
    "        collections=[\"sentinel-1-rtc\"], bbox=bbox_of_interest, datetime=time_of_interest\n",
    "    )\n",
    "    items = list(search.get_all_items())\n",
    "    data = stac_load(items, patch_url=pc.sign,bands=[\"vv\", \"vh\"], lat=(28.5, 28.5), lon=(77.5, 77.5)).to_dataframe().reset_index()\n",
    "    data['lat_actual'],data['lon_actual'] = latlong\n",
    "    return data"
   ]
  },
  {
   "cell_type": "markdown",
   "id": "caab9734-6cdf-466f-87c3-8067b05b90ba",
   "metadata": {},
   "source": [
    "<h4 style=\"color:rgb(195, 52, 235)\"><strong>Tip 3 </strong></h4>"
   ]
  },
  {
   "cell_type": "markdown",
   "id": "0cdb9b25-0c41-4f55-aa33-082adeb34dbd",
   "metadata": {},
   "source": [
    "Explore the approach of building a bounding box (e.g., 5x5 pixels) around the given latitude and longitude positions and then extract the aggregated band values (e.g., average, median) to get normalized band values to build the model. Radar data has inherent variability at the pixel level due to variable scattering response from the target. This effect is called “speckle” and it is common to filter the data to smooth these variations. Try using a 3x3, 5x5 or 7x7 window around the specific latitude and longitude point to get improved results."
   ]
  },
  {
   "cell_type": "code",
   "execution_count": 53,
   "id": "4c51cd6e-41e2-4df4-ae07-349be861f0f0",
   "metadata": {},
   "outputs": [],
   "source": [
    "## Function call to extract VV,VH Values\n",
    "fetch_data = False # Set to False if you have already extracted the data\n",
    "if fetch_data:\n",
    "    time_slice = \"2020-03-20/2021-03-21\"\n",
    "    vh_vv=[]\n",
    "    for coordinates in tqdm(crop_presence_data['Latitude and Longitude']):\n",
    "        vh_vv.append(get_sentinel_data(coordinates,time_slice))\n",
    "    df = pd.concat(vh_vv)\n",
    "    df.to_csv('./Data/sentinel_data.csv',index=False)\n",
    "else:\n",
    "    df = pd.read_csv('./Data/sentinel_data.csv')"
   ]
  },
  {
   "cell_type": "code",
   "execution_count": null,
   "id": "e2c131c1",
   "metadata": {},
   "outputs": [],
   "source": []
  },
  {
   "cell_type": "markdown",
   "id": "aa872546-7567-418c-af04-1d8b4fa5bd60",
   "metadata": {},
   "source": [
    "## Joining the predictor variables and response variables\n",
    "Now that we have extracted our predictor variables, we need to join them onto the response variable . We use the function <i><b>combine_two_datasets</b></i> to combine the predictor variables and response variables.The <i><b>concat</b></i> function from pandas comes in handy here."
   ]
  },
  {
   "cell_type": "code",
   "execution_count": 5,
   "id": "96296d95-8290-4f26-80f9-9e221bfcfc81",
   "metadata": {},
   "outputs": [],
   "source": [
    "def combine_two_datasets(dataset1,dataset2):\n",
    "    '''\n",
    "    Returns a  vertically concatenated dataset.\n",
    "    Attributes:\n",
    "    dataset1 - Dataset 1 to be combined \n",
    "    dataset2 - Dataset 2 to be combined\n",
    "    '''\n",
    "    data = pd.concat([dataset1,dataset2], axis=1)\n",
    "    return data"
   ]
  },
  {
   "cell_type": "code",
   "execution_count": 6,
   "id": "20fa2b5f-727b-4781-9ff4-cc70596cd3f0",
   "metadata": {},
   "outputs": [
    {
     "data": {
      "text/html": [
       "<div>\n",
       "<style scoped>\n",
       "    .dataframe tbody tr th:only-of-type {\n",
       "        vertical-align: middle;\n",
       "    }\n",
       "\n",
       "    .dataframe tbody tr th {\n",
       "        vertical-align: top;\n",
       "    }\n",
       "\n",
       "    .dataframe thead th {\n",
       "        text-align: right;\n",
       "    }\n",
       "</style>\n",
       "<table border=\"1\" class=\"dataframe\">\n",
       "  <thead>\n",
       "    <tr style=\"text-align: right;\">\n",
       "      <th></th>\n",
       "      <th>Latitude and Longitude</th>\n",
       "      <th>Class of Land</th>\n",
       "      <th>vh</th>\n",
       "      <th>vv</th>\n",
       "    </tr>\n",
       "  </thead>\n",
       "  <tbody>\n",
       "    <tr>\n",
       "      <th>0</th>\n",
       "      <td>(10.323727047081501, 105.2516346045924)</td>\n",
       "      <td>Rice</td>\n",
       "      <td>0.065339</td>\n",
       "      <td>0.137559</td>\n",
       "    </tr>\n",
       "    <tr>\n",
       "      <th>1</th>\n",
       "      <td>(10.322364360592521, 105.27843410554115)</td>\n",
       "      <td>Rice</td>\n",
       "      <td>0.029045</td>\n",
       "      <td>0.103210</td>\n",
       "    </tr>\n",
       "    <tr>\n",
       "      <th>2</th>\n",
       "      <td>(10.321455902933202, 105.25254306225168)</td>\n",
       "      <td>Rice</td>\n",
       "      <td>0.056547</td>\n",
       "      <td>0.279272</td>\n",
       "    </tr>\n",
       "    <tr>\n",
       "      <th>3</th>\n",
       "      <td>(10.324181275911162, 105.25118037576274)</td>\n",
       "      <td>Rice</td>\n",
       "      <td>0.035070</td>\n",
       "      <td>0.154607</td>\n",
       "    </tr>\n",
       "    <tr>\n",
       "      <th>4</th>\n",
       "      <td>(10.324635504740822, 105.27389181724476)</td>\n",
       "      <td>Rice</td>\n",
       "      <td>0.041903</td>\n",
       "      <td>0.191198</td>\n",
       "    </tr>\n",
       "  </tbody>\n",
       "</table>\n",
       "</div>"
      ],
      "text/plain": [
       "                     Latitude and Longitude Class of Land        vh        vv\n",
       "0   (10.323727047081501, 105.2516346045924)          Rice  0.065339  0.137559\n",
       "1  (10.322364360592521, 105.27843410554115)          Rice  0.029045  0.103210\n",
       "2  (10.321455902933202, 105.25254306225168)          Rice  0.056547  0.279272\n",
       "3  (10.324181275911162, 105.25118037576274)          Rice  0.035070  0.154607\n",
       "4  (10.324635504740822, 105.27389181724476)          Rice  0.041903  0.191198"
      ]
     },
     "execution_count": 6,
     "metadata": {},
     "output_type": "execute_result"
    }
   ],
   "source": [
    "crop_data = combine_two_datasets(crop_presence_data,vh_vv_data)\n",
    "crop_data.head()"
   ]
  },
  {
   "cell_type": "markdown",
   "id": "fd4af7b5-41d1-4822-8d78-5e4bdc84b287",
   "metadata": {},
   "source": [
    "## Model Building\n"
   ]
  },
  {
   "cell_type": "markdown",
   "id": "a664ca55-dba1-440b-a4ef-2b6934c03929",
   "metadata": {},
   "source": [
    "<p align=\"justify\"> Now let us select the columns required for our model building exercise. We will consider only VV and VH for our model. It does not make sense to use latitude and longitude as predictor variables as they do not have any impact on presence of rice crop.</p>"
   ]
  },
  {
   "cell_type": "code",
   "execution_count": 7,
   "id": "536d53ad-2697-4283-8ceb-db94f93bad7e",
   "metadata": {},
   "outputs": [],
   "source": [
    "crop_data = crop_data[['vh','vv','Class of Land']]"
   ]
  },
  {
   "cell_type": "markdown",
   "id": "fca40658-8003-4195-b0d1-5efe29929ac9",
   "metadata": {},
   "source": [
    "### Train and Test Split "
   ]
  },
  {
   "cell_type": "markdown",
   "id": "b46507f5-cfd1-43d8-8b05-aa09ce8016af",
   "metadata": {},
   "source": [
    "<p align=\"justify\">We will now split the data into 70% training data and 30% test data. Scikit-learn alias “sklearn” is a robust library for machine learning in Python. The scikit-learn library has a <i><b>model_selection</b></i> module in which there is a splitting function <i><b>train_test_split</b></i>. You can use the same.</p>"
   ]
  },
  {
   "cell_type": "code",
   "execution_count": 8,
   "id": "062ac03d-245d-49af-82d9-56d3ac581e85",
   "metadata": {},
   "outputs": [],
   "source": [
    "X = crop_data.drop(columns=['Class of Land']).values\n",
    "y = crop_data ['Class of Land'].values\n",
    "X_train, X_test, y_train, y_test = train_test_split(X, y, test_size=0.3,stratify=y,random_state=40)"
   ]
  },
  {
   "cell_type": "markdown",
   "id": "b031607b-9e71-46c8-beb1-3610ab59c56a",
   "metadata": {},
   "source": [
    "### Feature Scaling "
   ]
  },
  {
   "cell_type": "markdown",
   "id": "3b2140c8-3fed-49a4-b9c5-7378c12c5784",
   "metadata": {},
   "source": [
    "<p align=\"justify\"> Before initiating the model training we may have to execute different data pre-processing steps. Here we are demonstrating the scaling of VV and VH variable by using Standard Scaler.</p>"
   ]
  },
  {
   "cell_type": "markdown",
   "id": "d859a23d-be08-4a7c-b27b-1a4afb03feb5",
   "metadata": {},
   "source": [
    "<p align = \"justify\">Feature Scaling is a data preprocessing step for numerical features. Many machine learning algorithms like Gradient descent methods, KNN algorithm, linear and logistic regression, etc. require data scaling to produce good results. Scikit learn provides functions that can be used to apply data scaling. Here we are using Standard Scaler.</p>"
   ]
  },
  {
   "cell_type": "markdown",
   "id": "6a85328e-bef5-4b81-b7a0-443557387e0c",
   "metadata": {},
   "source": [
    "<h4 style=\"color:rgb(195, 52, 235)\"><strong>Tip 4 </strong></h4>\n",
    "<p align=\"justify\">Participants might explore other feature scaling techniques like Min Max Scaler, Max Absolute Scaling, Robust Scaling etc.</p>"
   ]
  },
  {
   "cell_type": "code",
   "execution_count": 9,
   "id": "1506aede-aca0-4acc-a9b7-c7547dd9ed0a",
   "metadata": {},
   "outputs": [],
   "source": [
    "sc = StandardScaler()\n",
    "X_train = sc.fit_transform(X_train)\n",
    "X_test = sc.transform(X_test)"
   ]
  },
  {
   "cell_type": "markdown",
   "id": "ed1de27d-2b8b-4a3d-bf83-66f69f435402",
   "metadata": {},
   "source": [
    "### Model Training"
   ]
  },
  {
   "cell_type": "markdown",
   "id": "c3e978bb-a1af-48d7-ae11-6912bbe45adf",
   "metadata": {},
   "source": [
    "<p justify =\"align\">Now that we have the data in a format appropriate for machine learning, we can begin training a model. In this demonstration notebook, we have used a binary logistic regression model from the scikit-learn library. This library offers a wide range of other models, each with the capacity for extensive parameter tuning and customization capabilities.</p>\n",
    "\n",
    "<p justify =\"align\">Scikit-learn models require separation of predictor variables and the response variable. You have to store the predictor variables in array X and the response variable in the array Y. You must make sure not to include the response variable in array X. It also doesn't make sense to use latitude and longitude as predictor variables in such a confined area, so we drop those too.</p>"
   ]
  },
  {
   "cell_type": "code",
   "execution_count": 10,
   "id": "888f7099-afbf-47d5-a214-00ae0e11bf66",
   "metadata": {},
   "outputs": [
    {
     "data": {
      "text/plain": [
       "LogisticRegression()"
      ]
     },
     "execution_count": 10,
     "metadata": {},
     "output_type": "execute_result"
    }
   ],
   "source": [
    "model = LogisticRegression(solver='lbfgs')\n",
    "model.fit(X_train,y_train)"
   ]
  },
  {
   "cell_type": "markdown",
   "id": "e87f54ac-ccd9-43a0-a53c-3403ee56c43d",
   "metadata": {},
   "source": [
    "## Model Evaluation"
   ]
  },
  {
   "cell_type": "markdown",
   "id": "c940c3e9-caa0-4081-9941-372082cad66b",
   "metadata": {},
   "source": [
    "Now that we have trained our model , all that is left is to evaluate it. For evaluation we will generate the classification report and will plot the confusion matrix. Scikit-learn provides many other metrics that can be used for evaluation. You can even write a code on your own."
   ]
  },
  {
   "cell_type": "markdown",
   "id": "35ad0925-b550-4b26-ae96-2ec160ae3dff",
   "metadata": {
    "tags": []
   },
   "source": [
    "### In-Sample Evaluation\n",
    "<p align=\"Jutisfy\"> We will be generating a classification report and a confusion matrix for the training data. It must be stressed that this is in-sample performance testing , which is the performance testing on the training dataset. These metrics are NOT truly indicative of the model's performance. You should wait to test the model performance on the test data before you feel confident about your model.</p>"
   ]
  },
  {
   "cell_type": "markdown",
   "id": "fab57db4-c7e8-4ff2-ac31-eea3f7eab64f",
   "metadata": {},
   "source": [
    "In this section, we make predictions on the training set and store them in the <b><i>insample_ predictions</i></b> variable. A confusion matrix is generated to gauge the robustness of the model. "
   ]
  },
  {
   "cell_type": "code",
   "execution_count": 11,
   "id": "a7a4196f-226e-4c52-8a64-bc00535bc97c",
   "metadata": {},
   "outputs": [],
   "source": [
    "insample_predictions = model.predict(X_train)"
   ]
  },
  {
   "cell_type": "code",
   "execution_count": 12,
   "id": "e131de89-a22d-4912-9f9b-6c7a12769c6c",
   "metadata": {},
   "outputs": [
    {
     "name": "stdout",
     "output_type": "stream",
     "text": [
      "Insample Accuracy 60.95%\n",
      "              precision    recall  f1-score   support\n",
      "\n",
      "    Non Rice       0.51      0.64      0.57       170\n",
      "        Rice       0.70      0.59      0.64       250\n",
      "\n",
      "    accuracy                           0.61       420\n",
      "   macro avg       0.61      0.61      0.61       420\n",
      "weighted avg       0.63      0.61      0.61       420\n",
      "\n"
     ]
    }
   ],
   "source": [
    "print(\"Insample Accuracy {0:.2f}%\".format(100*accuracy_score(insample_predictions,y_train)))\n",
    "print(classification_report(insample_predictions,y_train))"
   ]
  },
  {
   "cell_type": "markdown",
   "id": "e847aa72-37b8-498b-bd63-4130d1366b7e",
   "metadata": {},
   "source": [
    "<p> For plotting a confusion matrix we define the function <b><i>plot_confusion_matrix</i></b>."
   ]
  },
  {
   "cell_type": "code",
   "execution_count": 13,
   "id": "bb97e054-6e73-4d90-89e2-36ce094721f5",
   "metadata": {},
   "outputs": [],
   "source": [
    "def plot_confusion_matrix(true_value,predicted_value,title,labels):\n",
    "    '''\n",
    "    Plots a confusion matrix.\n",
    "    Attributes:\n",
    "    true_value - The ground truth value for comparision.\n",
    "    predicted_value - The values predicted by the model.\n",
    "    title - Title of the plot.\n",
    "    labels - The x and y labels of the plot.\n",
    "    '''\n",
    "    cm = confusion_matrix(true_value,predicted_value)\n",
    "    ax= plt.subplot()\n",
    "    sns.heatmap(cm, annot=True, fmt='g', ax=ax, cmap='Blues');\n",
    "    ax.set_xlabel('Predicted labels');\n",
    "    ax.set_ylabel('True labels'); \n",
    "    ax.set_title(title); \n",
    "    ax.xaxis.set_ticklabels(labels); \n",
    "    ax.yaxis.set_ticklabels(labels);"
   ]
  },
  {
   "cell_type": "code",
   "execution_count": 14,
   "id": "99c77326-b7d5-4dc4-8101-96bece8aceb2",
   "metadata": {},
   "outputs": [
    {
     "data": {
      "image/png": "[encoded data removed]",
      "text/plain": [
       "<Figure size 432x288 with 2 Axes>"
      ]
     },
     "metadata": {
      "needs_background": "light"
     },
     "output_type": "display_data"
    }
   ],
   "source": [
    "plot_confusion_matrix(y_train,insample_predictions,\"Model Level 1: Logistic\\nRegression Model In-Sample Results\",['Rice', 'Non Rice'])"
   ]
  },
  {
   "cell_type": "markdown",
   "id": "e4fd9f2d-1add-499a-b692-f616ec02871d",
   "metadata": {},
   "source": [
    "### Out-Sample Evaluation"
   ]
  },
  {
   "cell_type": "markdown",
   "id": "5a9e1681-0cae-42c1-ad00-0ad3bb7eca71",
   "metadata": {},
   "source": [
    "When evaluating a machine learning model, it is essential to correctly and fairly evaluate the model's ability to generalize. This is because models have a tendency to overfit the dataset they are trained on. To estimate the out-of-sample performance, we will predict on the test data now. "
   ]
  },
  {
   "cell_type": "code",
   "execution_count": 15,
   "id": "0d7324d1-35fd-463f-9734-f2ad1552ae52",
   "metadata": {},
   "outputs": [],
   "source": [
    "outsample_predictions = model.predict(X_test)"
   ]
  },
  {
   "cell_type": "code",
   "execution_count": 16,
   "id": "4fdec320-a85c-49b9-8177-a65d5b85317a",
   "metadata": {},
   "outputs": [
    {
     "name": "stdout",
     "output_type": "stream",
     "text": [
      "Accuracy 56.67%\n",
      "              precision    recall  f1-score   support\n",
      "\n",
      "    Non Rice       0.58      0.50      0.54        90\n",
      "        Rice       0.56      0.63      0.59        90\n",
      "\n",
      "    accuracy                           0.57       180\n",
      "   macro avg       0.57      0.57      0.56       180\n",
      "weighted avg       0.57      0.57      0.56       180\n",
      "\n"
     ]
    }
   ],
   "source": [
    "print(\"Accuracy {0:.2f}%\".format(100*accuracy_score(outsample_predictions, y_test)))\n",
    "print(classification_report(y_test, outsample_predictions))"
   ]
  },
  {
   "cell_type": "code",
   "execution_count": 17,
   "id": "da5ed827-f3b8-47a2-865c-61bd2cd9621c",
   "metadata": {},
   "outputs": [
    {
     "data": {
      "image/png": "[encoded data removed]",
      "text/plain": [
       "<Figure size 432x288 with 2 Axes>"
      ]
     },
     "metadata": {
      "needs_background": "light"
     },
     "output_type": "display_data"
    }
   ],
   "source": [
    "plot_confusion_matrix(y_test, outsample_predictions,\"Model Level 1: Logistic\\nRegression Model Out-Sample Results\",['Rice', 'Non Rice'])"
   ]
  },
  {
   "cell_type": "markdown",
   "id": "0f0bd4a4-5976-4a37-8f5b-fe46cf841e1f",
   "metadata": {},
   "source": [
    "From the above, we see that the model is able to achieve an F1 score of <b>0.57</b>. This is not a very good score, so your goal is to improve this score.  "
   ]
  },
  {
   "cell_type": "markdown",
   "id": "2629f3f5-5a51-45d7-9c68-75b969101405",
   "metadata": {},
   "source": [
    "## Submission"
   ]
  },
  {
   "cell_type": "markdown",
   "id": "287c178f-1113-4456-b1c6-3188273bc1f3",
   "metadata": {},
   "source": [
    "Once you are happy with your model, you can make a submission. To make a submission, you will need to use your model to make predictions about the presence of rice crops for a set of test coordinates we have provided in the <a href=\"https://challenge.ey.com/api/v1/storage/admin-files/6847912254281276-63ca8b5ab12e510013520e2b-challenge_1_submission_template.csv\"><b>\"challenge_1_submission_template.csv\"</b></a> file and upload the file onto the challenge platform."
   ]
  },
  {
   "cell_type": "code",
   "execution_count": 19,
   "id": "c1fc4682-5a87-4ccb-9b4d-877221e397e9",
   "metadata": {},
   "outputs": [
    {
     "data": {
      "text/html": [
       "<div>\n",
       "<style scoped>\n",
       "    .dataframe tbody tr th:only-of-type {\n",
       "        vertical-align: middle;\n",
       "    }\n",
       "\n",
       "    .dataframe tbody tr th {\n",
       "        vertical-align: top;\n",
       "    }\n",
       "\n",
       "    .dataframe thead th {\n",
       "        text-align: right;\n",
       "    }\n",
       "</style>\n",
       "<table border=\"1\" class=\"dataframe\">\n",
       "  <thead>\n",
       "    <tr style=\"text-align: right;\">\n",
       "      <th></th>\n",
       "      <th>Latitude and Longitude</th>\n",
       "    </tr>\n",
       "  </thead>\n",
       "  <tbody>\n",
       "    <tr>\n",
       "      <th>0</th>\n",
       "      <td>(10.18019073690894, 105.32022315786804)</td>\n",
       "    </tr>\n",
       "    <tr>\n",
       "      <th>1</th>\n",
       "      <td>(10.561107033461816, 105.12772097986661)</td>\n",
       "    </tr>\n",
       "    <tr>\n",
       "      <th>2</th>\n",
       "      <td>(10.623790611954897, 105.13771401411867)</td>\n",
       "    </tr>\n",
       "    <tr>\n",
       "      <th>3</th>\n",
       "      <td>(10.583364246115156, 105.23946127195805)</td>\n",
       "    </tr>\n",
       "    <tr>\n",
       "      <th>4</th>\n",
       "      <td>(10.20744446668854, 105.26844107128906)</td>\n",
       "    </tr>\n",
       "  </tbody>\n",
       "</table>\n",
       "</div>"
      ],
      "text/plain": [
       "                     Latitude and Longitude\n",
       "0   (10.18019073690894, 105.32022315786804)\n",
       "1  (10.561107033461816, 105.12772097986661)\n",
       "2  (10.623790611954897, 105.13771401411867)\n",
       "3  (10.583364246115156, 105.23946127195805)\n",
       "4   (10.20744446668854, 105.26844107128906)"
      ]
     },
     "execution_count": 19,
     "metadata": {},
     "output_type": "execute_result"
    }
   ],
   "source": [
    "#Reading the coordinates for the submission\n",
    "test_file = pd.read_csv('challenge_1_submission_template.csv')\n",
    "test_file.head()"
   ]
  },
  {
   "cell_type": "code",
   "execution_count": 20,
   "id": "c0c5e29a-3bfa-4f5e-ac00-ffbf6b18033e",
   "metadata": {},
   "outputs": [
    {
     "name": "stderr",
     "output_type": "stream",
     "text": [
      "100%|████████████████████████████████████████████████████████████████████████████████| 250/250 [04:53<00:00,  1.17s/it]\n"
     ]
    }
   ],
   "source": [
    "## Get Sentinel-1-RTC Data\n",
    "time_slice = \"2020-03-20/2020-03-21\"\n",
    "assests = ['vh','vv']\n",
    "vh_vv = []\n",
    "for coordinates in tqdm(test_file['Latitude and Longitude']):\n",
    "    vh_vv.append(get_sentinel_data(coordinates,time_slice,assests))\n",
    "submission_vh_vv_data = pd.DataFrame(vh_vv,columns =['vh','vv'])"
   ]
  },
  {
   "cell_type": "code",
   "execution_count": 21,
   "id": "08b02ce9-ef4b-4e96-b895-cabca85f2860",
   "metadata": {},
   "outputs": [
    {
     "data": {
      "text/html": [
       "<div>\n",
       "<style scoped>\n",
       "    .dataframe tbody tr th:only-of-type {\n",
       "        vertical-align: middle;\n",
       "    }\n",
       "\n",
       "    .dataframe tbody tr th {\n",
       "        vertical-align: top;\n",
       "    }\n",
       "\n",
       "    .dataframe thead th {\n",
       "        text-align: right;\n",
       "    }\n",
       "</style>\n",
       "<table border=\"1\" class=\"dataframe\">\n",
       "  <thead>\n",
       "    <tr style=\"text-align: right;\">\n",
       "      <th></th>\n",
       "      <th>vh</th>\n",
       "      <th>vv</th>\n",
       "    </tr>\n",
       "  </thead>\n",
       "  <tbody>\n",
       "    <tr>\n",
       "      <th>0</th>\n",
       "      <td>0.003928</td>\n",
       "      <td>0.048405</td>\n",
       "    </tr>\n",
       "    <tr>\n",
       "      <th>1</th>\n",
       "      <td>0.016505</td>\n",
       "      <td>0.124807</td>\n",
       "    </tr>\n",
       "    <tr>\n",
       "      <th>2</th>\n",
       "      <td>0.036922</td>\n",
       "      <td>0.093570</td>\n",
       "    </tr>\n",
       "    <tr>\n",
       "      <th>3</th>\n",
       "      <td>0.002008</td>\n",
       "      <td>0.010407</td>\n",
       "    </tr>\n",
       "    <tr>\n",
       "      <th>4</th>\n",
       "      <td>0.063200</td>\n",
       "      <td>0.205140</td>\n",
       "    </tr>\n",
       "  </tbody>\n",
       "</table>\n",
       "</div>"
      ],
      "text/plain": [
       "         vh        vv\n",
       "0  0.003928  0.048405\n",
       "1  0.016505  0.124807\n",
       "2  0.036922  0.093570\n",
       "3  0.002008  0.010407\n",
       "4  0.063200  0.205140"
      ]
     },
     "execution_count": 21,
     "metadata": {},
     "output_type": "execute_result"
    }
   ],
   "source": [
    "submission_vh_vv_data.head()"
   ]
  },
  {
   "cell_type": "code",
   "execution_count": 22,
   "id": "2cb45aca-974a-41e1-a522-36ca202d9af5",
   "metadata": {},
   "outputs": [],
   "source": [
    "# Feature Scaling \n",
    "submission_vh_vv_data = submission_vh_vv_data.values\n",
    "transformed_submission_data = sc.transform(submission_vh_vv_data)"
   ]
  },
  {
   "cell_type": "code",
   "execution_count": 23,
   "id": "ecc34e3a-bfc1-49a0-94bb-ee1e540abe98",
   "metadata": {},
   "outputs": [],
   "source": [
    "#Making predictions\n",
    "final_predictions = model.predict(transformed_submission_data)\n",
    "final_prediction_series = pd.Series(final_predictions)"
   ]
  },
  {
   "cell_type": "code",
   "execution_count": 24,
   "id": "0375e4cd-fdb0-4b82-8508-6ff022061cf9",
   "metadata": {},
   "outputs": [],
   "source": [
    "#Combining the results into dataframe\n",
    "submission_df = pd.DataFrame({'Latitude and Longitude':test_file['Latitude and Longitude'].values, 'Class of Land':final_prediction_series.values})"
   ]
  },
  {
   "cell_type": "code",
   "execution_count": 25,
   "id": "1a1a563b-c0ed-4e2c-a7fe-08ad59cf1626",
   "metadata": {},
   "outputs": [
    {
     "data": {
      "text/html": [
       "<div>\n",
       "<style scoped>\n",
       "    .dataframe tbody tr th:only-of-type {\n",
       "        vertical-align: middle;\n",
       "    }\n",
       "\n",
       "    .dataframe tbody tr th {\n",
       "        vertical-align: top;\n",
       "    }\n",
       "\n",
       "    .dataframe thead th {\n",
       "        text-align: right;\n",
       "    }\n",
       "</style>\n",
       "<table border=\"1\" class=\"dataframe\">\n",
       "  <thead>\n",
       "    <tr style=\"text-align: right;\">\n",
       "      <th></th>\n",
       "      <th>Latitude and Longitude</th>\n",
       "      <th>Class of Land</th>\n",
       "    </tr>\n",
       "  </thead>\n",
       "  <tbody>\n",
       "    <tr>\n",
       "      <th>0</th>\n",
       "      <td>(10.18019073690894, 105.32022315786804)</td>\n",
       "      <td>Rice</td>\n",
       "    </tr>\n",
       "    <tr>\n",
       "      <th>1</th>\n",
       "      <td>(10.561107033461816, 105.12772097986661)</td>\n",
       "      <td>Rice</td>\n",
       "    </tr>\n",
       "    <tr>\n",
       "      <th>2</th>\n",
       "      <td>(10.623790611954897, 105.13771401411867)</td>\n",
       "      <td>Non Rice</td>\n",
       "    </tr>\n",
       "    <tr>\n",
       "      <th>3</th>\n",
       "      <td>(10.583364246115156, 105.23946127195805)</td>\n",
       "      <td>Rice</td>\n",
       "    </tr>\n",
       "    <tr>\n",
       "      <th>4</th>\n",
       "      <td>(10.20744446668854, 105.26844107128906)</td>\n",
       "      <td>Non Rice</td>\n",
       "    </tr>\n",
       "    <tr>\n",
       "      <th>...</th>\n",
       "      <td>...</td>\n",
       "      <td>...</td>\n",
       "    </tr>\n",
       "    <tr>\n",
       "      <th>245</th>\n",
       "      <td>(10.308283266873062, 105.50872812216863)</td>\n",
       "      <td>Rice</td>\n",
       "    </tr>\n",
       "    <tr>\n",
       "      <th>246</th>\n",
       "      <td>(10.582910017285496, 105.23991550078767)</td>\n",
       "      <td>Rice</td>\n",
       "    </tr>\n",
       "    <tr>\n",
       "      <th>247</th>\n",
       "      <td>(10.581547330796518, 105.23991550078767)</td>\n",
       "      <td>Rice</td>\n",
       "    </tr>\n",
       "    <tr>\n",
       "      <th>248</th>\n",
       "      <td>(10.629241357910818, 105.15315779432643)</td>\n",
       "      <td>Rice</td>\n",
       "    </tr>\n",
       "    <tr>\n",
       "      <th>249</th>\n",
       "      <td>(10.574733898351617, 105.10410108072531)</td>\n",
       "      <td>Non Rice</td>\n",
       "    </tr>\n",
       "  </tbody>\n",
       "</table>\n",
       "<p>250 rows × 2 columns</p>\n",
       "</div>"
      ],
      "text/plain": [
       "                       Latitude and Longitude Class of Land\n",
       "0     (10.18019073690894, 105.32022315786804)          Rice\n",
       "1    (10.561107033461816, 105.12772097986661)          Rice\n",
       "2    (10.623790611954897, 105.13771401411867)      Non Rice\n",
       "3    (10.583364246115156, 105.23946127195805)          Rice\n",
       "4     (10.20744446668854, 105.26844107128906)      Non Rice\n",
       "..                                        ...           ...\n",
       "245  (10.308283266873062, 105.50872812216863)          Rice\n",
       "246  (10.582910017285496, 105.23991550078767)          Rice\n",
       "247  (10.581547330796518, 105.23991550078767)          Rice\n",
       "248  (10.629241357910818, 105.15315779432643)          Rice\n",
       "249  (10.574733898351617, 105.10410108072531)      Non Rice\n",
       "\n",
       "[250 rows x 2 columns]"
      ]
     },
     "metadata": {},
     "output_type": "display_data"
    }
   ],
   "source": [
    "#Displaying the sample submission dataframe\n",
    "display(submission_df)"
   ]
  },
  {
   "cell_type": "code",
   "execution_count": 26,
   "id": "2fcec864-4da3-41e7-80da-b77e42a9d810",
   "metadata": {},
   "outputs": [],
   "source": [
    "#Dumping the predictions into a csv file.\n",
    "submission_df.to_csv(\"challenge_1_submission_rice_crop_prediction.csv\",index = False)"
   ]
  },
  {
   "cell_type": "markdown",
   "id": "094c2fba-5ecb-4ea5-a4a5-1fd6a74952cc",
   "metadata": {},
   "source": [
    "## Conclusion"
   ]
  },
  {
   "cell_type": "markdown",
   "id": "10632df0-a001-4932-8ef9-c7dc9023cc7f",
   "metadata": {},
   "source": [
    "Now that you have learned a basic approach to model training, it’s time to try your own approach! Feel free to modify any of the functions presented in this notebook. We look forward to seeing your version of the model and the results. Best of luck with the challenge!"
   ]
  },
  {
   "attachments": {},
   "cell_type": "markdown",
   "id": "d6095800",
   "metadata": {},
   "source": [
    "# Experiment"
   ]
  },
  {
   "cell_type": "code",
   "execution_count": 34,
   "id": "f5ca6534",
   "metadata": {},
   "outputs": [
    {
     "name": "stdout",
     "output_type": "stream",
     "text": [
      "[PhysicalDevice(name='/physical_device:GPU:0', device_type='GPU'), PhysicalDevice(name='/physical_device:GPU:1', device_type='GPU')]\n"
     ]
    }
   ],
   "source": [
    "import pandas as pd\n",
    "import numpy as np\n",
    "import matplotlib.pyplot as plt\n",
    "from IPython.display import display,clear_output\n",
    "import os\n",
    "import tensorflow as tf\n",
    "from tensorflow import keras\n",
    "from tensorflow.keras import layers\n",
    "print(tf.config.list_physical_devices('GPU'))"
   ]
  },
  {
   "attachments": {},
   "cell_type": "markdown",
   "id": "3cdba574",
   "metadata": {},
   "source": [
    "##### Data Fetch"
   ]
  },
  {
   "cell_type": "code",
   "execution_count": 52,
   "id": "78d498c6",
   "metadata": {},
   "outputs": [],
   "source": [
    "# Supress Warnings\n",
    "import warnings\n",
    "warnings.filterwarnings('ignore')\n",
    "\n",
    "# Visualization\n",
    "import ipyleaflet\n",
    "import matplotlib.pyplot as plt\n",
    "from IPython.display import Image\n",
    "import seaborn as sns\n",
    "\n",
    "# Data Science\n",
    "import numpy as np\n",
    "import pandas as pd\n",
    "\n",
    "# Planetary Computer Tools\n",
    "import pystac\n",
    "import pystac_client\n",
    "import odc\n",
    "from pystac_client import Client\n",
    "from pystac.extensions.eo import EOExtension as eo\n",
    "from odc.stac import stac_load\n",
    "import planetary_computer as pc\n",
    "import yaml\n",
    "\n",
    "with open(\"api_key.yml\", 'r') as ymlfile:\n",
    "    cfg = yaml.load(ymlfile, Loader=yaml.FullLoader)\n",
    "\n",
    "# Pass your API key here\n",
    "pc.settings.set_subscription_key(cfg['planetary_computer']['key'])\n",
    "# Others\n",
    "import requests\n",
    "import rich.table\n",
    "from itertools import cycle\n",
    "from tqdm import tqdm\n",
    "tqdm.pandas()"
   ]
  },
  {
   "cell_type": "code",
   "execution_count": 72,
   "id": "170cfc77",
   "metadata": {},
   "outputs": [
    {
     "ename": "KeyboardInterrupt",
     "evalue": "",
     "output_type": "error",
     "traceback": [
      "\u001b[0;31m---------------------------------------------------------------------------\u001b[0m",
      "\u001b[0;31mKeyboardInterrupt\u001b[0m                         Traceback (most recent call last)",
      "Cell \u001b[0;32mIn[72], line 23\u001b[0m\n\u001b[1;32m     21\u001b[0m items \u001b[39m=\u001b[39m \u001b[39mlist\u001b[39m(search\u001b[39m.\u001b[39mget_all_items())\n\u001b[1;32m     22\u001b[0m bands_of_interest \u001b[39m=\u001b[39m assests\n\u001b[0;32m---> 23\u001b[0m data \u001b[39m=\u001b[39m stac_load(items, patch_url\u001b[39m=\u001b[39;49mpc\u001b[39m.\u001b[39;49msign, bbox\u001b[39m=\u001b[39;49mbbox_of_interest)\u001b[39m.\u001b[39misel(time\u001b[39m=\u001b[39m\u001b[39m0\u001b[39m)\n\u001b[1;32m     24\u001b[0m vh \u001b[39m=\u001b[39m data[\u001b[39m\"\u001b[39m\u001b[39mvh\u001b[39m\u001b[39m\"\u001b[39m]\u001b[39m.\u001b[39mastype(\u001b[39m\"\u001b[39m\u001b[39mfloat\u001b[39m\u001b[39m\"\u001b[39m)\u001b[39m.\u001b[39mvalues\u001b[39m.\u001b[39mtolist()[\u001b[39m0\u001b[39m][\u001b[39m0\u001b[39m]\n\u001b[1;32m     25\u001b[0m vv \u001b[39m=\u001b[39m data[\u001b[39m\"\u001b[39m\u001b[39mvv\u001b[39m\u001b[39m\"\u001b[39m]\u001b[39m.\u001b[39mastype(\u001b[39m\"\u001b[39m\u001b[39mfloat\u001b[39m\u001b[39m\"\u001b[39m)\u001b[39m.\u001b[39mvalues\u001b[39m.\u001b[39mtolist()[\u001b[39m0\u001b[39m][\u001b[39m0\u001b[39m]\n",
      "File \u001b[0;32m~/miniconda3/envs/ey_challenge/lib/python3.8/site-packages/odc/stac/_load.py:610\u001b[0m, in \u001b[0;36mload\u001b[0;34m(items, bands, groupby, resampling, dtype, chunks, pool, crs, resolution, anchor, geobox, bbox, lon, lat, x, y, like, geopolygon, progress, fail_on_error, stac_cfg, patch_url, preserve_original_order, **kw)\u001b[0m\n\u001b[1;32m    607\u001b[0m \u001b[39mif\u001b[39;00m progress \u001b[39mis\u001b[39;00m \u001b[39mnot\u001b[39;00m \u001b[39mNone\u001b[39;00m:\n\u001b[1;32m    608\u001b[0m     _work \u001b[39m=\u001b[39m progress(SizedIterable(_work, total_tasks))\n\u001b[0;32m--> 610\u001b[0m \u001b[39mfor\u001b[39;00m _ \u001b[39min\u001b[39;00m _work:\n\u001b[1;32m    611\u001b[0m     \u001b[39mpass\u001b[39;00m\n\u001b[1;32m    613\u001b[0m \u001b[39mreturn\u001b[39;00m _with_debug_info(ds, tasks\u001b[39m=\u001b[39m_tasks)\n",
      "File \u001b[0;32m~/miniconda3/envs/ey_challenge/lib/python3.8/site-packages/odc/stac/_utils.py:38\u001b[0m, in \u001b[0;36mpmap\u001b[0;34m(func, inputs, pool)\u001b[0m\n\u001b[1;32m     34\u001b[0m \u001b[39m\u001b[39m\u001b[39m\"\"\"\u001b[39;00m\n\u001b[1;32m     35\u001b[0m \u001b[39mWrapper for ThreadPoolExecutor.map\u001b[39;00m\n\u001b[1;32m     36\u001b[0m \u001b[39m\"\"\"\u001b[39;00m\n\u001b[1;32m     37\u001b[0m \u001b[39mif\u001b[39;00m pool \u001b[39mis\u001b[39;00m \u001b[39mNone\u001b[39;00m:\n\u001b[0;32m---> 38\u001b[0m     \u001b[39myield from\u001b[39;00m \u001b[39mmap\u001b[39m(func, inputs)\n\u001b[1;32m     39\u001b[0m     \u001b[39mreturn\u001b[39;00m\n\u001b[1;32m     41\u001b[0m \u001b[39mif\u001b[39;00m \u001b[39misinstance\u001b[39m(pool, \u001b[39mint\u001b[39m):\n",
      "File \u001b[0;32m~/miniconda3/envs/ey_challenge/lib/python3.8/site-packages/odc/stac/_load.py:601\u001b[0m, in \u001b[0;36mload.<locals>._do_one\u001b[0;34m(task)\u001b[0m\n\u001b[1;32m    595\u001b[0m srcs \u001b[39m=\u001b[39m [\n\u001b[1;32m    596\u001b[0m     src\n\u001b[1;32m    597\u001b[0m     \u001b[39mfor\u001b[39;00m src \u001b[39min\u001b[39;00m (_parsed[idx]\u001b[39m.\u001b[39mget(band, \u001b[39mNone\u001b[39;00m) \u001b[39mfor\u001b[39;00m idx, band \u001b[39min\u001b[39;00m task\u001b[39m.\u001b[39msrcs)\n\u001b[1;32m    598\u001b[0m     \u001b[39mif\u001b[39;00m src \u001b[39mis\u001b[39;00m \u001b[39mnot\u001b[39;00m \u001b[39mNone\u001b[39;00m\n\u001b[1;32m    599\u001b[0m ]\n\u001b[1;32m    600\u001b[0m \u001b[39mwith\u001b[39;00m rio_env(\u001b[39m*\u001b[39m\u001b[39m*\u001b[39m_rio_env):\n\u001b[0;32m--> 601\u001b[0m     _ \u001b[39m=\u001b[39m _fill_2d_slice(srcs, task\u001b[39m.\u001b[39;49mdst_gbox, task\u001b[39m.\u001b[39;49mcfg, dst_slice)\n\u001b[1;32m    602\u001b[0m t, y, x \u001b[39m=\u001b[39m task\u001b[39m.\u001b[39midx_tyx\n\u001b[1;32m    603\u001b[0m \u001b[39mreturn\u001b[39;00m (task\u001b[39m.\u001b[39mband, t, y, x)\n",
      "File \u001b[0;32m~/miniconda3/envs/ey_challenge/lib/python3.8/site-packages/odc/stac/_load.py:698\u001b[0m, in \u001b[0;36m_fill_2d_slice\u001b[0;34m(srcs, dst_gbox, cfg, dst)\u001b[0m\n\u001b[1;32m    695\u001b[0m     \u001b[39mreturn\u001b[39;00m dst\n\u001b[1;32m    697\u001b[0m src, \u001b[39m*\u001b[39mrest \u001b[39m=\u001b[39m srcs\n\u001b[0;32m--> 698\u001b[0m _roi, pix \u001b[39m=\u001b[39m rio_read(src, cfg, dst_gbox, dst\u001b[39m=\u001b[39;49mdst)\n\u001b[1;32m    700\u001b[0m \u001b[39mfor\u001b[39;00m src \u001b[39min\u001b[39;00m rest:\n\u001b[1;32m    701\u001b[0m     \u001b[39m# first valid pixel takes precedence over others\u001b[39;00m\n\u001b[1;32m    702\u001b[0m     _roi, pix \u001b[39m=\u001b[39m rio_read(src, cfg, dst_gbox)\n",
      "File \u001b[0;32m~/miniconda3/envs/ey_challenge/lib/python3.8/site-packages/odc/stac/_reader.py:186\u001b[0m, in \u001b[0;36mrio_read\u001b[0;34m(src, cfg, dst_geobox, dst)\u001b[0m\n\u001b[1;32m    163\u001b[0m \u001b[39m\u001b[39m\u001b[39m\"\"\"\u001b[39;00m\n\u001b[1;32m    164\u001b[0m \u001b[39mInternal read method.\u001b[39;00m\n\u001b[1;32m    165\u001b[0m \n\u001b[0;32m   (...)\u001b[0m\n\u001b[1;32m    182\u001b[0m \n\u001b[1;32m    183\u001b[0m \u001b[39m\"\"\"\u001b[39;00m\n\u001b[1;32m    185\u001b[0m \u001b[39mtry\u001b[39;00m:\n\u001b[0;32m--> 186\u001b[0m     \u001b[39mreturn\u001b[39;00m _rio_read(src, cfg, dst_geobox, dst)\n\u001b[1;32m    187\u001b[0m \u001b[39mexcept\u001b[39;00m rasterio\u001b[39m.\u001b[39merrors\u001b[39m.\u001b[39mRasterioIOError \u001b[39mas\u001b[39;00m e:\n\u001b[1;32m    188\u001b[0m     \u001b[39mif\u001b[39;00m cfg\u001b[39m.\u001b[39mfail_on_error:\n",
      "File \u001b[0;32m~/miniconda3/envs/ey_challenge/lib/python3.8/site-packages/odc/stac/_reader.py:233\u001b[0m, in \u001b[0;36m_rio_read\u001b[0;34m(src, cfg, dst_geobox, dst)\u001b[0m\n\u001b[1;32m    231\u001b[0m \u001b[39mif\u001b[39;00m ovr_idx \u001b[39mis\u001b[39;00m \u001b[39mNone\u001b[39;00m:\n\u001b[1;32m    232\u001b[0m     \u001b[39mwith\u001b[39;00m rio_env(VSI_CACHE\u001b[39m=\u001b[39m\u001b[39mFalse\u001b[39;00m):\n\u001b[0;32m--> 233\u001b[0m         \u001b[39mreturn\u001b[39;00m _do_read(\n\u001b[1;32m    234\u001b[0m             rasterio\u001b[39m.\u001b[39;49mband(rdr, src\u001b[39m.\u001b[39;49mband), cfg, dst_geobox, rr, dst\u001b[39m=\u001b[39;49mdst\n\u001b[1;32m    235\u001b[0m         )\n\u001b[1;32m    237\u001b[0m \u001b[39m# read from overview\u001b[39;00m\n\u001b[1;32m    238\u001b[0m \u001b[39mwith\u001b[39;00m rasterio\u001b[39m.\u001b[39mopen(\n\u001b[1;32m    239\u001b[0m     src\u001b[39m.\u001b[39muri, \u001b[39m\"\u001b[39m\u001b[39mr\u001b[39m\u001b[39m\"\u001b[39m, sharing\u001b[39m=\u001b[39m\u001b[39mFalse\u001b[39;00m, overview_level\u001b[39m=\u001b[39movr_idx\n\u001b[1;32m    240\u001b[0m ) \u001b[39mas\u001b[39;00m rdr_ovr:\n",
      "File \u001b[0;32m~/miniconda3/envs/ey_challenge/lib/python3.8/site-packages/odc/stac/_reader.py:134\u001b[0m, in \u001b[0;36m_do_read\u001b[0;34m(src, cfg, dst_geobox, rr, dst)\u001b[0m\n\u001b[1;32m    131\u001b[0m     \u001b[39mreturn\u001b[39;00m (rr\u001b[39m.\u001b[39mroi_dst, _dst)\n\u001b[1;32m    133\u001b[0m \u001b[39mif\u001b[39;00m rr\u001b[39m.\u001b[39mpaste_ok \u001b[39mand\u001b[39;00m rr\u001b[39m.\u001b[39mread_shrink \u001b[39m==\u001b[39m \u001b[39m1\u001b[39m:\n\u001b[0;32m--> 134\u001b[0m     rdr\u001b[39m.\u001b[39;49mread(src\u001b[39m.\u001b[39;49mbidx, out\u001b[39m=\u001b[39;49m_dst, window\u001b[39m=\u001b[39;49mw_[rr\u001b[39m.\u001b[39;49mroi_src])\n\u001b[1;32m    136\u001b[0m     \u001b[39mif\u001b[39;00m dst_nodata \u001b[39mis\u001b[39;00m \u001b[39mnot\u001b[39;00m \u001b[39mNone\u001b[39;00m \u001b[39mand\u001b[39;00m \u001b[39mnot\u001b[39;00m _same_nodata(src_nodata, dst_nodata):\n\u001b[1;32m    137\u001b[0m         \u001b[39m# remap nodata from source to output\u001b[39;00m\n\u001b[1;32m    138\u001b[0m         np\u001b[39m.\u001b[39mcopyto(_dst, dst_nodata, where\u001b[39m=\u001b[39m_nodata_mask(_dst, src_nodata))\n",
      "\u001b[0;31mKeyboardInterrupt\u001b[0m: "
     ]
    }
   ],
   "source": [
    "# def get_sentinel_data(latlong,time_slice,assets):\n",
    "'''\n",
    "Returns VV and VH values for a given latitude and longitude \n",
    "Attributes:\n",
    "latlong - A tuple with 2 elements - latitude and longitude\n",
    "time_slice - Timeframe for which the VV and VH values have to be extracted\n",
    "assets - A list of bands to be extracted\n",
    "'''\n",
    "latlong = crop_presence_data['Latitude and Longitude'][0]\n",
    "time_slice = \"2020-01-01/2020-12-31\"\n",
    "latlong=latlong.replace('(','').replace(')','').replace(' ','').split(',')\n",
    "bbox_of_interest = (float(latlong[1]) , float(latlong[0]), float(latlong[1]) , float(latlong[0]))\n",
    "time_of_interest = time_slice\n",
    "\n",
    "catalog = pystac_client.Client.open(\n",
    "    \"https://planetarycomputer.microsoft.com/api/stac/v1\",\n",
    ")\n",
    "search = catalog.search(\n",
    "    collections=[\"sentinel-1-rtc\"], bbox=bbox_of_interest, datetime=time_of_interest\n",
    ")\n",
    "items = list(search.get_all_items())\n",
    "bands_of_interest = assests\n",
    "\n",
    "vh = data[\"vh\"].astype(\"float\").values.tolist()[0][0]\n",
    "vv = data[\"vv\"].astype(\"float\").values.tolist()[0][0]\n",
    "# return vh,vv"
   ]
  },
  {
   "cell_type": "code",
   "execution_count": 79,
   "id": "f1506d66",
   "metadata": {},
   "outputs": [
    {
     "name": "stdout",
     "output_type": "stream",
     "text": [
      "The slowest run took 4.13 times longer than the fastest. This could mean that an intermediate result is being cached.\n",
      "35.2 s ± 16.8 s per loop (mean ± std. dev. of 7 runs, 1 loop each)\n"
     ]
    }
   ],
   "source": [
    "%%timeit\n",
    "for i in items[:10]:\n",
    "    data = stac_load([i], patch_url=pc.sign, bbox=bbox_of_interest).isel(time=0)\n",
    "    "
   ]
  },
  {
   "cell_type": "code",
   "execution_count": 78,
   "id": "7284a82f",
   "metadata": {},
   "outputs": [
    {
     "ename": "KeyboardInterrupt",
     "evalue": "",
     "output_type": "error",
     "traceback": [
      "\u001b[0;31m---------------------------------------------------------------------------\u001b[0m",
      "\u001b[0;31mKeyboardInterrupt\u001b[0m                         Traceback (most recent call last)",
      "Cell \u001b[0;32mIn[78], line 1\u001b[0m\n\u001b[0;32m----> 1\u001b[0m get_ipython()\u001b[39m.\u001b[39;49mrun_cell_magic(\u001b[39m'\u001b[39;49m\u001b[39mtimeit\u001b[39;49m\u001b[39m'\u001b[39;49m, \u001b[39m'\u001b[39;49m\u001b[39m'\u001b[39;49m, \u001b[39m'\u001b[39;49m\u001b[39mdata= stac_load(items[:10], patch_url=pc.sign, bbox=bbox_of_interest)\u001b[39;49m\u001b[39m\\n\u001b[39;49;00m\u001b[39m'\u001b[39;49m)\n",
      "File \u001b[0;32m~/.local/lib/python3.8/site-packages/IPython/core/interactiveshell.py:2417\u001b[0m, in \u001b[0;36mInteractiveShell.run_cell_magic\u001b[0;34m(self, magic_name, line, cell)\u001b[0m\n\u001b[1;32m   2415\u001b[0m \u001b[39mwith\u001b[39;00m \u001b[39mself\u001b[39m\u001b[39m.\u001b[39mbuiltin_trap:\n\u001b[1;32m   2416\u001b[0m     args \u001b[39m=\u001b[39m (magic_arg_s, cell)\n\u001b[0;32m-> 2417\u001b[0m     result \u001b[39m=\u001b[39m fn(\u001b[39m*\u001b[39;49margs, \u001b[39m*\u001b[39;49m\u001b[39m*\u001b[39;49mkwargs)\n\u001b[1;32m   2418\u001b[0m \u001b[39mreturn\u001b[39;00m result\n",
      "File \u001b[0;32m~/.local/lib/python3.8/site-packages/IPython/core/magics/execution.py:1166\u001b[0m, in \u001b[0;36mExecutionMagics.timeit\u001b[0;34m(self, line, cell, local_ns)\u001b[0m\n\u001b[1;32m   1163\u001b[0m         \u001b[39mif\u001b[39;00m time_number \u001b[39m>\u001b[39m\u001b[39m=\u001b[39m \u001b[39m0.2\u001b[39m:\n\u001b[1;32m   1164\u001b[0m             \u001b[39mbreak\u001b[39;00m\n\u001b[0;32m-> 1166\u001b[0m all_runs \u001b[39m=\u001b[39m timer\u001b[39m.\u001b[39;49mrepeat(repeat, number)\n\u001b[1;32m   1167\u001b[0m best \u001b[39m=\u001b[39m \u001b[39mmin\u001b[39m(all_runs) \u001b[39m/\u001b[39m number\n\u001b[1;32m   1168\u001b[0m worst \u001b[39m=\u001b[39m \u001b[39mmax\u001b[39m(all_runs) \u001b[39m/\u001b[39m number\n",
      "File \u001b[0;32m~/miniconda3/envs/ey_challenge/lib/python3.8/timeit.py:205\u001b[0m, in \u001b[0;36mTimer.repeat\u001b[0;34m(self, repeat, number)\u001b[0m\n\u001b[1;32m    203\u001b[0m r \u001b[39m=\u001b[39m []\n\u001b[1;32m    204\u001b[0m \u001b[39mfor\u001b[39;00m i \u001b[39min\u001b[39;00m \u001b[39mrange\u001b[39m(repeat):\n\u001b[0;32m--> 205\u001b[0m     t \u001b[39m=\u001b[39m \u001b[39mself\u001b[39;49m\u001b[39m.\u001b[39;49mtimeit(number)\n\u001b[1;32m    206\u001b[0m     r\u001b[39m.\u001b[39mappend(t)\n\u001b[1;32m    207\u001b[0m \u001b[39mreturn\u001b[39;00m r\n",
      "File \u001b[0;32m~/.local/lib/python3.8/site-packages/IPython/core/magics/execution.py:156\u001b[0m, in \u001b[0;36mTimer.timeit\u001b[0;34m(self, number)\u001b[0m\n\u001b[1;32m    154\u001b[0m gc\u001b[39m.\u001b[39mdisable()\n\u001b[1;32m    155\u001b[0m \u001b[39mtry\u001b[39;00m:\n\u001b[0;32m--> 156\u001b[0m     timing \u001b[39m=\u001b[39m \u001b[39mself\u001b[39;49m\u001b[39m.\u001b[39;49minner(it, \u001b[39mself\u001b[39;49m\u001b[39m.\u001b[39;49mtimer)\n\u001b[1;32m    157\u001b[0m \u001b[39mfinally\u001b[39;00m:\n\u001b[1;32m    158\u001b[0m     \u001b[39mif\u001b[39;00m gcold:\n",
      "File \u001b[0;32m<magic-timeit>:1\u001b[0m, in \u001b[0;36minner\u001b[0;34m(_it, _timer)\u001b[0m\n",
      "File \u001b[0;32m~/miniconda3/envs/ey_challenge/lib/python3.8/site-packages/odc/stac/_load.py:610\u001b[0m, in \u001b[0;36mload\u001b[0;34m(items, bands, groupby, resampling, dtype, chunks, pool, crs, resolution, anchor, geobox, bbox, lon, lat, x, y, like, geopolygon, progress, fail_on_error, stac_cfg, patch_url, preserve_original_order, **kw)\u001b[0m\n\u001b[1;32m    607\u001b[0m \u001b[39mif\u001b[39;00m progress \u001b[39mis\u001b[39;00m \u001b[39mnot\u001b[39;00m \u001b[39mNone\u001b[39;00m:\n\u001b[1;32m    608\u001b[0m     _work \u001b[39m=\u001b[39m progress(SizedIterable(_work, total_tasks))\n\u001b[0;32m--> 610\u001b[0m \u001b[39mfor\u001b[39;00m _ \u001b[39min\u001b[39;00m _work:\n\u001b[1;32m    611\u001b[0m     \u001b[39mpass\u001b[39;00m\n\u001b[1;32m    613\u001b[0m \u001b[39mreturn\u001b[39;00m _with_debug_info(ds, tasks\u001b[39m=\u001b[39m_tasks)\n",
      "File \u001b[0;32m~/miniconda3/envs/ey_challenge/lib/python3.8/site-packages/odc/stac/_utils.py:38\u001b[0m, in \u001b[0;36mpmap\u001b[0;34m(func, inputs, pool)\u001b[0m\n\u001b[1;32m     34\u001b[0m \u001b[39m\u001b[39m\u001b[39m\"\"\"\u001b[39;00m\n\u001b[1;32m     35\u001b[0m \u001b[39mWrapper for ThreadPoolExecutor.map\u001b[39;00m\n\u001b[1;32m     36\u001b[0m \u001b[39m\"\"\"\u001b[39;00m\n\u001b[1;32m     37\u001b[0m \u001b[39mif\u001b[39;00m pool \u001b[39mis\u001b[39;00m \u001b[39mNone\u001b[39;00m:\n\u001b[0;32m---> 38\u001b[0m     \u001b[39myield from\u001b[39;00m \u001b[39mmap\u001b[39m(func, inputs)\n\u001b[1;32m     39\u001b[0m     \u001b[39mreturn\u001b[39;00m\n\u001b[1;32m     41\u001b[0m \u001b[39mif\u001b[39;00m \u001b[39misinstance\u001b[39m(pool, \u001b[39mint\u001b[39m):\n",
      "File \u001b[0;32m~/miniconda3/envs/ey_challenge/lib/python3.8/site-packages/odc/stac/_load.py:601\u001b[0m, in \u001b[0;36mload.<locals>._do_one\u001b[0;34m(task)\u001b[0m\n\u001b[1;32m    595\u001b[0m srcs \u001b[39m=\u001b[39m [\n\u001b[1;32m    596\u001b[0m     src\n\u001b[1;32m    597\u001b[0m     \u001b[39mfor\u001b[39;00m src \u001b[39min\u001b[39;00m (_parsed[idx]\u001b[39m.\u001b[39mget(band, \u001b[39mNone\u001b[39;00m) \u001b[39mfor\u001b[39;00m idx, band \u001b[39min\u001b[39;00m task\u001b[39m.\u001b[39msrcs)\n\u001b[1;32m    598\u001b[0m     \u001b[39mif\u001b[39;00m src \u001b[39mis\u001b[39;00m \u001b[39mnot\u001b[39;00m \u001b[39mNone\u001b[39;00m\n\u001b[1;32m    599\u001b[0m ]\n\u001b[1;32m    600\u001b[0m \u001b[39mwith\u001b[39;00m rio_env(\u001b[39m*\u001b[39m\u001b[39m*\u001b[39m_rio_env):\n\u001b[0;32m--> 601\u001b[0m     _ \u001b[39m=\u001b[39m _fill_2d_slice(srcs, task\u001b[39m.\u001b[39;49mdst_gbox, task\u001b[39m.\u001b[39;49mcfg, dst_slice)\n\u001b[1;32m    602\u001b[0m t, y, x \u001b[39m=\u001b[39m task\u001b[39m.\u001b[39midx_tyx\n\u001b[1;32m    603\u001b[0m \u001b[39mreturn\u001b[39;00m (task\u001b[39m.\u001b[39mband, t, y, x)\n",
      "File \u001b[0;32m~/miniconda3/envs/ey_challenge/lib/python3.8/site-packages/odc/stac/_load.py:698\u001b[0m, in \u001b[0;36m_fill_2d_slice\u001b[0;34m(srcs, dst_gbox, cfg, dst)\u001b[0m\n\u001b[1;32m    695\u001b[0m     \u001b[39mreturn\u001b[39;00m dst\n\u001b[1;32m    697\u001b[0m src, \u001b[39m*\u001b[39mrest \u001b[39m=\u001b[39m srcs\n\u001b[0;32m--> 698\u001b[0m _roi, pix \u001b[39m=\u001b[39m rio_read(src, cfg, dst_gbox, dst\u001b[39m=\u001b[39;49mdst)\n\u001b[1;32m    700\u001b[0m \u001b[39mfor\u001b[39;00m src \u001b[39min\u001b[39;00m rest:\n\u001b[1;32m    701\u001b[0m     \u001b[39m# first valid pixel takes precedence over others\u001b[39;00m\n\u001b[1;32m    702\u001b[0m     _roi, pix \u001b[39m=\u001b[39m rio_read(src, cfg, dst_gbox)\n",
      "File \u001b[0;32m~/miniconda3/envs/ey_challenge/lib/python3.8/site-packages/odc/stac/_reader.py:186\u001b[0m, in \u001b[0;36mrio_read\u001b[0;34m(src, cfg, dst_geobox, dst)\u001b[0m\n\u001b[1;32m    163\u001b[0m \u001b[39m\u001b[39m\u001b[39m\"\"\"\u001b[39;00m\n\u001b[1;32m    164\u001b[0m \u001b[39mInternal read method.\u001b[39;00m\n\u001b[1;32m    165\u001b[0m \n\u001b[0;32m   (...)\u001b[0m\n\u001b[1;32m    182\u001b[0m \n\u001b[1;32m    183\u001b[0m \u001b[39m\"\"\"\u001b[39;00m\n\u001b[1;32m    185\u001b[0m \u001b[39mtry\u001b[39;00m:\n\u001b[0;32m--> 186\u001b[0m     \u001b[39mreturn\u001b[39;00m _rio_read(src, cfg, dst_geobox, dst)\n\u001b[1;32m    187\u001b[0m \u001b[39mexcept\u001b[39;00m rasterio\u001b[39m.\u001b[39merrors\u001b[39m.\u001b[39mRasterioIOError \u001b[39mas\u001b[39;00m e:\n\u001b[1;32m    188\u001b[0m     \u001b[39mif\u001b[39;00m cfg\u001b[39m.\u001b[39mfail_on_error:\n",
      "File \u001b[0;32m~/miniconda3/envs/ey_challenge/lib/python3.8/site-packages/odc/stac/_reader.py:219\u001b[0m, in \u001b[0;36m_rio_read\u001b[0;34m(src, cfg, dst_geobox, dst)\u001b[0m\n\u001b[1;32m    209\u001b[0m \u001b[39mdef\u001b[39;00m \u001b[39m_rio_read\u001b[39m(\n\u001b[1;32m    210\u001b[0m     src: RasterSource,\n\u001b[1;32m    211\u001b[0m     cfg: RasterLoadParams,\n\u001b[0;32m   (...)\u001b[0m\n\u001b[1;32m    215\u001b[0m     \u001b[39m# if resampling is `nearest` then ignore sub-pixel translation when deciding\u001b[39;00m\n\u001b[1;32m    216\u001b[0m     \u001b[39m# whether we can just paste source into destination\u001b[39;00m\n\u001b[1;32m    217\u001b[0m     ttol \u001b[39m=\u001b[39m \u001b[39m0.9\u001b[39m \u001b[39mif\u001b[39;00m cfg\u001b[39m.\u001b[39mnearest \u001b[39melse\u001b[39;00m \u001b[39m0.05\u001b[39m\n\u001b[0;32m--> 219\u001b[0m     \u001b[39mwith\u001b[39;00m rasterio\u001b[39m.\u001b[39;49mopen(src\u001b[39m.\u001b[39;49muri, \u001b[39m\"\u001b[39;49m\u001b[39mr\u001b[39;49m\u001b[39m\"\u001b[39;49m, sharing\u001b[39m=\u001b[39;49m\u001b[39mFalse\u001b[39;49;00m) \u001b[39mas\u001b[39;00m rdr:\n\u001b[1;32m    220\u001b[0m         \u001b[39massert\u001b[39;00m \u001b[39misinstance\u001b[39m(rdr, rasterio\u001b[39m.\u001b[39mDatasetReader)\n\u001b[1;32m    221\u001b[0m         ovr_idx: Optional[\u001b[39mint\u001b[39m] \u001b[39m=\u001b[39m \u001b[39mNone\u001b[39;00m\n",
      "File \u001b[0;32m~/miniconda3/envs/ey_challenge/lib/python3.8/site-packages/rasterio/env.py:451\u001b[0m, in \u001b[0;36mensure_env_with_credentials.<locals>.wrapper\u001b[0;34m(*args, **kwds)\u001b[0m\n\u001b[1;32m    448\u001b[0m     session \u001b[39m=\u001b[39m DummySession()\n\u001b[1;32m    450\u001b[0m \u001b[39mwith\u001b[39;00m env_ctor(session\u001b[39m=\u001b[39msession):\n\u001b[0;32m--> 451\u001b[0m     \u001b[39mreturn\u001b[39;00m f(\u001b[39m*\u001b[39;49margs, \u001b[39m*\u001b[39;49m\u001b[39m*\u001b[39;49mkwds)\n",
      "File \u001b[0;32m~/miniconda3/envs/ey_challenge/lib/python3.8/site-packages/rasterio/__init__.py:304\u001b[0m, in \u001b[0;36mopen\u001b[0;34m(fp, mode, driver, width, height, count, crs, transform, dtype, nodata, sharing, **kwargs)\u001b[0m\n\u001b[1;32m    301\u001b[0m path \u001b[39m=\u001b[39m _parse_path(raw_dataset_path)\n\u001b[1;32m    303\u001b[0m \u001b[39mif\u001b[39;00m mode \u001b[39m==\u001b[39m \u001b[39m\"\u001b[39m\u001b[39mr\u001b[39m\u001b[39m\"\u001b[39m:\n\u001b[0;32m--> 304\u001b[0m     dataset \u001b[39m=\u001b[39m DatasetReader(path, driver\u001b[39m=\u001b[39;49mdriver, sharing\u001b[39m=\u001b[39;49msharing, \u001b[39m*\u001b[39;49m\u001b[39m*\u001b[39;49mkwargs)\n\u001b[1;32m    305\u001b[0m \u001b[39melif\u001b[39;00m mode \u001b[39m==\u001b[39m \u001b[39m\"\u001b[39m\u001b[39mr+\u001b[39m\u001b[39m\"\u001b[39m:\n\u001b[1;32m    306\u001b[0m     dataset \u001b[39m=\u001b[39m get_writer_for_path(path, driver\u001b[39m=\u001b[39mdriver)(\n\u001b[1;32m    307\u001b[0m         path, mode, driver\u001b[39m=\u001b[39mdriver, sharing\u001b[39m=\u001b[39msharing, \u001b[39m*\u001b[39m\u001b[39m*\u001b[39mkwargs\n\u001b[1;32m    308\u001b[0m     )\n",
      "File \u001b[0;32mrasterio/_base.pyx:312\u001b[0m, in \u001b[0;36mrasterio._base.DatasetBase.__init__\u001b[0;34m()\u001b[0m\n",
      "File \u001b[0;32m~/miniconda3/envs/ey_challenge/lib/python3.8/site-packages/rasterio/_path.py:81\u001b[0m, in \u001b[0;36m_ParsedPath.name\u001b[0;34m(self)\u001b[0m\n\u001b[1;32m     78\u001b[0m     archive \u001b[39m=\u001b[39m parts\u001b[39m.\u001b[39mpop() \u001b[39mif\u001b[39;00m parts \u001b[39melse\u001b[39;00m \u001b[39mNone\u001b[39;00m\n\u001b[1;32m     79\u001b[0m     \u001b[39mreturn\u001b[39;00m _ParsedPath(path, archive, scheme)\n\u001b[0;32m---> 81\u001b[0m \u001b[39m@property\u001b[39m\n\u001b[1;32m     82\u001b[0m \u001b[39mdef\u001b[39;00m \u001b[39mname\u001b[39m(\u001b[39mself\u001b[39m):\n\u001b[1;32m     83\u001b[0m \u001b[39m    \u001b[39m\u001b[39m\"\"\"The parsed path's original URI\"\"\"\u001b[39;00m\n\u001b[1;32m     84\u001b[0m     \u001b[39mif\u001b[39;00m \u001b[39mnot\u001b[39;00m \u001b[39mself\u001b[39m\u001b[39m.\u001b[39mscheme:\n",
      "\u001b[0;31mKeyboardInterrupt\u001b[0m: "
     ]
    }
   ],
   "source": [
    "%%timeit\n",
    "data= stac_load(items[:10], patch_url=pc.sign, bbox=bbox_of_interest)"
   ]
  },
  {
   "cell_type": "code",
   "execution_count": 77,
   "id": "23f7bfa9",
   "metadata": {},
   "outputs": [
    {
     "data": {
      "text/html": [
       "<div><svg style=\"position: absolute; width: 0; height: 0; overflow: hidden\">\n",
       "<defs>\n",
       "<symbol id=\"icon-database\" viewBox=\"0 0 32 32\">\n",
       "<path d=\"M16 0c-8.837 0-16 2.239-16 5v4c0 2.761 7.163 5 16 5s16-2.239 16-5v-4c0-2.761-7.163-5-16-5z\"></path>\n",
       "<path d=\"M16 17c-8.837 0-16-2.239-16-5v6c0 2.761 7.163 5 16 5s16-2.239 16-5v-6c0 2.761-7.163 5-16 5z\"></path>\n",
       "<path d=\"M16 26c-8.837 0-16-2.239-16-5v6c0 2.761 7.163 5 16 5s16-2.239 16-5v-6c0 2.761-7.163 5-16 5z\"></path>\n",
       "</symbol>\n",
       "<symbol id=\"icon-file-text2\" viewBox=\"0 0 32 32\">\n",
       "<path d=\"M28.681 7.159c-0.694-0.947-1.662-2.053-2.724-3.116s-2.169-2.030-3.116-2.724c-1.612-1.182-2.393-1.319-2.841-1.319h-15.5c-1.378 0-2.5 1.121-2.5 2.5v27c0 1.378 1.122 2.5 2.5 2.5h23c1.378 0 2.5-1.122 2.5-2.5v-19.5c0-0.448-0.137-1.23-1.319-2.841zM24.543 5.457c0.959 0.959 1.712 1.825 2.268 2.543h-4.811v-4.811c0.718 0.556 1.584 1.309 2.543 2.268zM28 29.5c0 0.271-0.229 0.5-0.5 0.5h-23c-0.271 0-0.5-0.229-0.5-0.5v-27c0-0.271 0.229-0.5 0.5-0.5 0 0 15.499-0 15.5 0v7c0 0.552 0.448 1 1 1h7v19.5z\"></path>\n",
       "<path d=\"M23 26h-14c-0.552 0-1-0.448-1-1s0.448-1 1-1h14c0.552 0 1 0.448 1 1s-0.448 1-1 1z\"></path>\n",
       "<path d=\"M23 22h-14c-0.552 0-1-0.448-1-1s0.448-1 1-1h14c0.552 0 1 0.448 1 1s-0.448 1-1 1z\"></path>\n",
       "<path d=\"M23 18h-14c-0.552 0-1-0.448-1-1s0.448-1 1-1h14c0.552 0 1 0.448 1 1s-0.448 1-1 1z\"></path>\n",
       "</symbol>\n",
       "</defs>\n",
       "</svg>\n",
       "<style>/* CSS stylesheet for displaying xarray objects in jupyterlab.\n",
       " *\n",
       " */\n",
       "\n",
       ":root {\n",
       "  --xr-font-color0: var(--jp-content-font-color0, rgba(0, 0, 0, 1));\n",
       "  --xr-font-color2: var(--jp-content-font-color2, rgba(0, 0, 0, 0.54));\n",
       "  --xr-font-color3: var(--jp-content-font-color3, rgba(0, 0, 0, 0.38));\n",
       "  --xr-border-color: var(--jp-border-color2, #e0e0e0);\n",
       "  --xr-disabled-color: var(--jp-layout-color3, #bdbdbd);\n",
       "  --xr-background-color: var(--jp-layout-color0, white);\n",
       "  --xr-background-color-row-even: var(--jp-layout-color1, white);\n",
       "  --xr-background-color-row-odd: var(--jp-layout-color2, #eeeeee);\n",
       "}\n",
       "\n",
       "html[theme=dark],\n",
       "body[data-theme=dark],\n",
       "body.vscode-dark {\n",
       "  --xr-font-color0: rgba(255, 255, 255, 1);\n",
       "  --xr-font-color2: rgba(255, 255, 255, 0.54);\n",
       "  --xr-font-color3: rgba(255, 255, 255, 0.38);\n",
       "  --xr-border-color: #1F1F1F;\n",
       "  --xr-disabled-color: #515151;\n",
       "  --xr-background-color: #111111;\n",
       "  --xr-background-color-row-even: #111111;\n",
       "  --xr-background-color-row-odd: #313131;\n",
       "}\n",
       "\n",
       ".xr-wrap {\n",
       "  display: block !important;\n",
       "  min-width: 300px;\n",
       "  max-width: 700px;\n",
       "}\n",
       "\n",
       ".xr-text-repr-fallback {\n",
       "  /* fallback to plain text repr when CSS is not injected (untrusted notebook) */\n",
       "  display: none;\n",
       "}\n",
       "\n",
       ".xr-header {\n",
       "  padding-top: 6px;\n",
       "  padding-bottom: 6px;\n",
       "  margin-bottom: 4px;\n",
       "  border-bottom: solid 1px var(--xr-border-color);\n",
       "}\n",
       "\n",
       ".xr-header > div,\n",
       ".xr-header > ul {\n",
       "  display: inline;\n",
       "  margin-top: 0;\n",
       "  margin-bottom: 0;\n",
       "}\n",
       "\n",
       ".xr-obj-type,\n",
       ".xr-array-name {\n",
       "  margin-left: 2px;\n",
       "  margin-right: 10px;\n",
       "}\n",
       "\n",
       ".xr-obj-type {\n",
       "  color: var(--xr-font-color2);\n",
       "}\n",
       "\n",
       ".xr-sections {\n",
       "  padding-left: 0 !important;\n",
       "  display: grid;\n",
       "  grid-template-columns: 150px auto auto 1fr 20px 20px;\n",
       "}\n",
       "\n",
       ".xr-section-item {\n",
       "  display: contents;\n",
       "}\n",
       "\n",
       ".xr-section-item input {\n",
       "  display: none;\n",
       "}\n",
       "\n",
       ".xr-section-item input + label {\n",
       "  color: var(--xr-disabled-color);\n",
       "}\n",
       "\n",
       ".xr-section-item input:enabled + label {\n",
       "  cursor: pointer;\n",
       "  color: var(--xr-font-color2);\n",
       "}\n",
       "\n",
       ".xr-section-item input:enabled + label:hover {\n",
       "  color: var(--xr-font-color0);\n",
       "}\n",
       "\n",
       ".xr-section-summary {\n",
       "  grid-column: 1;\n",
       "  color: var(--xr-font-color2);\n",
       "  font-weight: 500;\n",
       "}\n",
       "\n",
       ".xr-section-summary > span {\n",
       "  display: inline-block;\n",
       "  padding-left: 0.5em;\n",
       "}\n",
       "\n",
       ".xr-section-summary-in:disabled + label {\n",
       "  color: var(--xr-font-color2);\n",
       "}\n",
       "\n",
       ".xr-section-summary-in + label:before {\n",
       "  display: inline-block;\n",
       "  content: '►';\n",
       "  font-size: 11px;\n",
       "  width: 15px;\n",
       "  text-align: center;\n",
       "}\n",
       "\n",
       ".xr-section-summary-in:disabled + label:before {\n",
       "  color: var(--xr-disabled-color);\n",
       "}\n",
       "\n",
       ".xr-section-summary-in:checked + label:before {\n",
       "  content: '▼';\n",
       "}\n",
       "\n",
       ".xr-section-summary-in:checked + label > span {\n",
       "  display: none;\n",
       "}\n",
       "\n",
       ".xr-section-summary,\n",
       ".xr-section-inline-details {\n",
       "  padding-top: 4px;\n",
       "  padding-bottom: 4px;\n",
       "}\n",
       "\n",
       ".xr-section-inline-details {\n",
       "  grid-column: 2 / -1;\n",
       "}\n",
       "\n",
       ".xr-section-details {\n",
       "  display: none;\n",
       "  grid-column: 1 / -1;\n",
       "  margin-bottom: 5px;\n",
       "}\n",
       "\n",
       ".xr-section-summary-in:checked ~ .xr-section-details {\n",
       "  display: contents;\n",
       "}\n",
       "\n",
       ".xr-array-wrap {\n",
       "  grid-column: 1 / -1;\n",
       "  display: grid;\n",
       "  grid-template-columns: 20px auto;\n",
       "}\n",
       "\n",
       ".xr-array-wrap > label {\n",
       "  grid-column: 1;\n",
       "  vertical-align: top;\n",
       "}\n",
       "\n",
       ".xr-preview {\n",
       "  color: var(--xr-font-color3);\n",
       "}\n",
       "\n",
       ".xr-array-preview,\n",
       ".xr-array-data {\n",
       "  padding: 0 5px !important;\n",
       "  grid-column: 2;\n",
       "}\n",
       "\n",
       ".xr-array-data,\n",
       ".xr-array-in:checked ~ .xr-array-preview {\n",
       "  display: none;\n",
       "}\n",
       "\n",
       ".xr-array-in:checked ~ .xr-array-data,\n",
       ".xr-array-preview {\n",
       "  display: inline-block;\n",
       "}\n",
       "\n",
       ".xr-dim-list {\n",
       "  display: inline-block !important;\n",
       "  list-style: none;\n",
       "  padding: 0 !important;\n",
       "  margin: 0;\n",
       "}\n",
       "\n",
       ".xr-dim-list li {\n",
       "  display: inline-block;\n",
       "  padding: 0;\n",
       "  margin: 0;\n",
       "}\n",
       "\n",
       ".xr-dim-list:before {\n",
       "  content: '(';\n",
       "}\n",
       "\n",
       ".xr-dim-list:after {\n",
       "  content: ')';\n",
       "}\n",
       "\n",
       ".xr-dim-list li:not(:last-child):after {\n",
       "  content: ',';\n",
       "  padding-right: 5px;\n",
       "}\n",
       "\n",
       ".xr-has-index {\n",
       "  font-weight: bold;\n",
       "}\n",
       "\n",
       ".xr-var-list,\n",
       ".xr-var-item {\n",
       "  display: contents;\n",
       "}\n",
       "\n",
       ".xr-var-item > div,\n",
       ".xr-var-item label,\n",
       ".xr-var-item > .xr-var-name span {\n",
       "  background-color: var(--xr-background-color-row-even);\n",
       "  margin-bottom: 0;\n",
       "}\n",
       "\n",
       ".xr-var-item > .xr-var-name:hover span {\n",
       "  padding-right: 5px;\n",
       "}\n",
       "\n",
       ".xr-var-list > li:nth-child(odd) > div,\n",
       ".xr-var-list > li:nth-child(odd) > label,\n",
       ".xr-var-list > li:nth-child(odd) > .xr-var-name span {\n",
       "  background-color: var(--xr-background-color-row-odd);\n",
       "}\n",
       "\n",
       ".xr-var-name {\n",
       "  grid-column: 1;\n",
       "}\n",
       "\n",
       ".xr-var-dims {\n",
       "  grid-column: 2;\n",
       "}\n",
       "\n",
       ".xr-var-dtype {\n",
       "  grid-column: 3;\n",
       "  text-align: right;\n",
       "  color: var(--xr-font-color2);\n",
       "}\n",
       "\n",
       ".xr-var-preview {\n",
       "  grid-column: 4;\n",
       "}\n",
       "\n",
       ".xr-index-preview {\n",
       "  grid-column: 2 / 5;\n",
       "  color: var(--xr-font-color2);\n",
       "}\n",
       "\n",
       ".xr-var-name,\n",
       ".xr-var-dims,\n",
       ".xr-var-dtype,\n",
       ".xr-preview,\n",
       ".xr-attrs dt {\n",
       "  white-space: nowrap;\n",
       "  overflow: hidden;\n",
       "  text-overflow: ellipsis;\n",
       "  padding-right: 10px;\n",
       "}\n",
       "\n",
       ".xr-var-name:hover,\n",
       ".xr-var-dims:hover,\n",
       ".xr-var-dtype:hover,\n",
       ".xr-attrs dt:hover {\n",
       "  overflow: visible;\n",
       "  width: auto;\n",
       "  z-index: 1;\n",
       "}\n",
       "\n",
       ".xr-var-attrs,\n",
       ".xr-var-data,\n",
       ".xr-index-data {\n",
       "  display: none;\n",
       "  background-color: var(--xr-background-color) !important;\n",
       "  padding-bottom: 5px !important;\n",
       "}\n",
       "\n",
       ".xr-var-attrs-in:checked ~ .xr-var-attrs,\n",
       ".xr-var-data-in:checked ~ .xr-var-data,\n",
       ".xr-index-data-in:checked ~ .xr-index-data {\n",
       "  display: block;\n",
       "}\n",
       "\n",
       ".xr-var-data > table {\n",
       "  float: right;\n",
       "}\n",
       "\n",
       ".xr-var-name span,\n",
       ".xr-var-data,\n",
       ".xr-index-name div,\n",
       ".xr-index-data,\n",
       ".xr-attrs {\n",
       "  padding-left: 25px !important;\n",
       "}\n",
       "\n",
       ".xr-attrs,\n",
       ".xr-var-attrs,\n",
       ".xr-var-data,\n",
       ".xr-index-data {\n",
       "  grid-column: 1 / -1;\n",
       "}\n",
       "\n",
       "dl.xr-attrs {\n",
       "  padding: 0;\n",
       "  margin: 0;\n",
       "  display: grid;\n",
       "  grid-template-columns: 125px auto;\n",
       "}\n",
       "\n",
       ".xr-attrs dt,\n",
       ".xr-attrs dd {\n",
       "  padding: 0;\n",
       "  margin: 0;\n",
       "  float: left;\n",
       "  padding-right: 10px;\n",
       "  width: auto;\n",
       "}\n",
       "\n",
       ".xr-attrs dt {\n",
       "  font-weight: normal;\n",
       "  grid-column: 1;\n",
       "}\n",
       "\n",
       ".xr-attrs dt:hover span {\n",
       "  display: inline-block;\n",
       "  background: var(--xr-background-color);\n",
       "  padding-right: 10px;\n",
       "}\n",
       "\n",
       ".xr-attrs dd {\n",
       "  grid-column: 2;\n",
       "  white-space: pre-wrap;\n",
       "  word-break: break-all;\n",
       "}\n",
       "\n",
       ".xr-icon-database,\n",
       ".xr-icon-file-text2,\n",
       ".xr-no-icon {\n",
       "  display: inline-block;\n",
       "  vertical-align: middle;\n",
       "  width: 1em;\n",
       "  height: 1.5em !important;\n",
       "  stroke-width: 0;\n",
       "  stroke: currentColor;\n",
       "  fill: currentColor;\n",
       "}\n",
       "</style><pre class='xr-text-repr-fallback'>&lt;xarray.Dataset&gt;\n",
       "Dimensions:      (y: 1, x: 1)\n",
       "Coordinates:\n",
       "  * y            (y) float64 1.141e+06\n",
       "  * x            (x) float64 5.276e+05\n",
       "    spatial_ref  int32 32648\n",
       "    time         datetime64[ns] 2020-12-27T22:45:28.898478\n",
       "Data variables:\n",
       "    vh           (y, x) float32 0.004257\n",
       "    vv           (y, x) float32 0.1367</pre><div class='xr-wrap' style='display:none'><div class='xr-header'><div class='xr-obj-type'>xarray.Dataset</div></div><ul class='xr-sections'><li class='xr-section-item'><input id='section-c4f52d04-3b0c-4daa-8b77-7acab8702512' class='xr-section-summary-in' type='checkbox' disabled ><label for='section-c4f52d04-3b0c-4daa-8b77-7acab8702512' class='xr-section-summary'  title='Expand/collapse section'>Dimensions:</label><div class='xr-section-inline-details'><ul class='xr-dim-list'><li><span class='xr-has-index'>y</span>: 1</li><li><span class='xr-has-index'>x</span>: 1</li></ul></div><div class='xr-section-details'></div></li><li class='xr-section-item'><input id='section-e6ca4cc9-6704-4ee1-9579-16720cea1a20' class='xr-section-summary-in' type='checkbox'  checked><label for='section-e6ca4cc9-6704-4ee1-9579-16720cea1a20' class='xr-section-summary' >Coordinates: <span>(4)</span></label><div class='xr-section-inline-details'></div><div class='xr-section-details'><ul class='xr-var-list'><li class='xr-var-item'><div class='xr-var-name'><span class='xr-has-index'>y</span></div><div class='xr-var-dims'>(y)</div><div class='xr-var-dtype'>float64</div><div class='xr-var-preview xr-preview'>1.141e+06</div><input id='attrs-5596902c-c040-434b-95a2-c6f42b9355a4' class='xr-var-attrs-in' type='checkbox' ><label for='attrs-5596902c-c040-434b-95a2-c6f42b9355a4' title='Show/Hide attributes'><svg class='icon xr-icon-file-text2'><use xlink:href='#icon-file-text2'></use></svg></label><input id='data-48c03c3d-817f-4b0a-b94b-c05f67bd8fec' class='xr-var-data-in' type='checkbox'><label for='data-48c03c3d-817f-4b0a-b94b-c05f67bd8fec' title='Show/Hide data repr'><svg class='icon xr-icon-database'><use xlink:href='#icon-database'></use></svg></label><div class='xr-var-attrs'><dl class='xr-attrs'><dt><span>units :</span></dt><dd>metre</dd><dt><span>resolution :</span></dt><dd>-10.0</dd><dt><span>crs :</span></dt><dd>EPSG:32648</dd></dl></div><div class='xr-var-data'><pre>array([1141215.])</pre></div></li><li class='xr-var-item'><div class='xr-var-name'><span class='xr-has-index'>x</span></div><div class='xr-var-dims'>(x)</div><div class='xr-var-dtype'>float64</div><div class='xr-var-preview xr-preview'>5.276e+05</div><input id='attrs-d60fdd91-f23f-4ed9-acc3-5682ea7f8686' class='xr-var-attrs-in' type='checkbox' ><label for='attrs-d60fdd91-f23f-4ed9-acc3-5682ea7f8686' title='Show/Hide attributes'><svg class='icon xr-icon-file-text2'><use xlink:href='#icon-file-text2'></use></svg></label><input id='data-0350c85b-6595-4d09-a7af-f5fe33338e6d' class='xr-var-data-in' type='checkbox'><label for='data-0350c85b-6595-4d09-a7af-f5fe33338e6d' title='Show/Hide data repr'><svg class='icon xr-icon-database'><use xlink:href='#icon-database'></use></svg></label><div class='xr-var-attrs'><dl class='xr-attrs'><dt><span>units :</span></dt><dd>metre</dd><dt><span>resolution :</span></dt><dd>10.0</dd><dt><span>crs :</span></dt><dd>EPSG:32648</dd></dl></div><div class='xr-var-data'><pre>array([527555.])</pre></div></li><li class='xr-var-item'><div class='xr-var-name'><span>spatial_ref</span></div><div class='xr-var-dims'>()</div><div class='xr-var-dtype'>int32</div><div class='xr-var-preview xr-preview'>32648</div><input id='attrs-d69bdfb1-0fef-4ebd-b610-334e6996f10f' class='xr-var-attrs-in' type='checkbox' ><label for='attrs-d69bdfb1-0fef-4ebd-b610-334e6996f10f' title='Show/Hide attributes'><svg class='icon xr-icon-file-text2'><use xlink:href='#icon-file-text2'></use></svg></label><input id='data-8c01228a-dd3c-4575-81d3-808882f8d259' class='xr-var-data-in' type='checkbox'><label for='data-8c01228a-dd3c-4575-81d3-808882f8d259' title='Show/Hide data repr'><svg class='icon xr-icon-database'><use xlink:href='#icon-database'></use></svg></label><div class='xr-var-attrs'><dl class='xr-attrs'><dt><span>spatial_ref :</span></dt><dd>PROJCRS[&quot;WGS 84 / UTM zone 48N&quot;,BASEGEOGCRS[&quot;WGS 84&quot;,ENSEMBLE[&quot;World Geodetic System 1984 ensemble&quot;,MEMBER[&quot;World Geodetic System 1984 (Transit)&quot;],MEMBER[&quot;World Geodetic System 1984 (G730)&quot;],MEMBER[&quot;World Geodetic System 1984 (G873)&quot;],MEMBER[&quot;World Geodetic System 1984 (G1150)&quot;],MEMBER[&quot;World Geodetic System 1984 (G1674)&quot;],MEMBER[&quot;World Geodetic System 1984 (G1762)&quot;],MEMBER[&quot;World Geodetic System 1984 (G2139)&quot;],ELLIPSOID[&quot;WGS 84&quot;,6378137,298.257223563,LENGTHUNIT[&quot;metre&quot;,1]],ENSEMBLEACCURACY[2.0]],PRIMEM[&quot;Greenwich&quot;,0,ANGLEUNIT[&quot;degree&quot;,0.0174532925199433]],ID[&quot;EPSG&quot;,4326]],CONVERSION[&quot;UTM zone 48N&quot;,METHOD[&quot;Transverse Mercator&quot;,ID[&quot;EPSG&quot;,9807]],PARAMETER[&quot;Latitude of natural origin&quot;,0,ANGLEUNIT[&quot;degree&quot;,0.0174532925199433],ID[&quot;EPSG&quot;,8801]],PARAMETER[&quot;Longitude of natural origin&quot;,105,ANGLEUNIT[&quot;degree&quot;,0.0174532925199433],ID[&quot;EPSG&quot;,8802]],PARAMETER[&quot;Scale factor at natural origin&quot;,0.9996,SCALEUNIT[&quot;unity&quot;,1],ID[&quot;EPSG&quot;,8805]],PARAMETER[&quot;False easting&quot;,500000,LENGTHUNIT[&quot;metre&quot;,1],ID[&quot;EPSG&quot;,8806]],PARAMETER[&quot;False northing&quot;,0,LENGTHUNIT[&quot;metre&quot;,1],ID[&quot;EPSG&quot;,8807]]],CS[Cartesian,2],AXIS[&quot;(E)&quot;,east,ORDER[1],LENGTHUNIT[&quot;metre&quot;,1]],AXIS[&quot;(N)&quot;,north,ORDER[2],LENGTHUNIT[&quot;metre&quot;,1]],USAGE[SCOPE[&quot;Engineering survey, topographic mapping.&quot;],AREA[&quot;Between 102°E and 108°E, northern hemisphere between equator and 84°N, onshore and offshore. Cambodia. China. Indonesia. Laos. Malaysia - West Malaysia. Mongolia. Russian Federation. Singapore. Thailand. Vietnam.&quot;],BBOX[0,102,84,108]],ID[&quot;EPSG&quot;,32648]]</dd><dt><span>crs_wkt :</span></dt><dd>PROJCRS[&quot;WGS 84 / UTM zone 48N&quot;,BASEGEOGCRS[&quot;WGS 84&quot;,ENSEMBLE[&quot;World Geodetic System 1984 ensemble&quot;,MEMBER[&quot;World Geodetic System 1984 (Transit)&quot;],MEMBER[&quot;World Geodetic System 1984 (G730)&quot;],MEMBER[&quot;World Geodetic System 1984 (G873)&quot;],MEMBER[&quot;World Geodetic System 1984 (G1150)&quot;],MEMBER[&quot;World Geodetic System 1984 (G1674)&quot;],MEMBER[&quot;World Geodetic System 1984 (G1762)&quot;],MEMBER[&quot;World Geodetic System 1984 (G2139)&quot;],ELLIPSOID[&quot;WGS 84&quot;,6378137,298.257223563,LENGTHUNIT[&quot;metre&quot;,1]],ENSEMBLEACCURACY[2.0]],PRIMEM[&quot;Greenwich&quot;,0,ANGLEUNIT[&quot;degree&quot;,0.0174532925199433]],ID[&quot;EPSG&quot;,4326]],CONVERSION[&quot;UTM zone 48N&quot;,METHOD[&quot;Transverse Mercator&quot;,ID[&quot;EPSG&quot;,9807]],PARAMETER[&quot;Latitude of natural origin&quot;,0,ANGLEUNIT[&quot;degree&quot;,0.0174532925199433],ID[&quot;EPSG&quot;,8801]],PARAMETER[&quot;Longitude of natural origin&quot;,105,ANGLEUNIT[&quot;degree&quot;,0.0174532925199433],ID[&quot;EPSG&quot;,8802]],PARAMETER[&quot;Scale factor at natural origin&quot;,0.9996,SCALEUNIT[&quot;unity&quot;,1],ID[&quot;EPSG&quot;,8805]],PARAMETER[&quot;False easting&quot;,500000,LENGTHUNIT[&quot;metre&quot;,1],ID[&quot;EPSG&quot;,8806]],PARAMETER[&quot;False northing&quot;,0,LENGTHUNIT[&quot;metre&quot;,1],ID[&quot;EPSG&quot;,8807]]],CS[Cartesian,2],AXIS[&quot;(E)&quot;,east,ORDER[1],LENGTHUNIT[&quot;metre&quot;,1]],AXIS[&quot;(N)&quot;,north,ORDER[2],LENGTHUNIT[&quot;metre&quot;,1]],USAGE[SCOPE[&quot;Engineering survey, topographic mapping.&quot;],AREA[&quot;Between 102°E and 108°E, northern hemisphere between equator and 84°N, onshore and offshore. Cambodia. China. Indonesia. Laos. Malaysia - West Malaysia. Mongolia. Russian Federation. Singapore. Thailand. Vietnam.&quot;],BBOX[0,102,84,108]],ID[&quot;EPSG&quot;,32648]]</dd><dt><span>semi_major_axis :</span></dt><dd>6378137.0</dd><dt><span>semi_minor_axis :</span></dt><dd>6356752.314245179</dd><dt><span>inverse_flattening :</span></dt><dd>298.257223563</dd><dt><span>reference_ellipsoid_name :</span></dt><dd>WGS 84</dd><dt><span>longitude_of_prime_meridian :</span></dt><dd>0.0</dd><dt><span>prime_meridian_name :</span></dt><dd>Greenwich</dd><dt><span>geographic_crs_name :</span></dt><dd>WGS 84</dd><dt><span>horizontal_datum_name :</span></dt><dd>World Geodetic System 1984 ensemble</dd><dt><span>projected_crs_name :</span></dt><dd>WGS 84 / UTM zone 48N</dd><dt><span>grid_mapping_name :</span></dt><dd>transverse_mercator</dd><dt><span>latitude_of_projection_origin :</span></dt><dd>0.0</dd><dt><span>longitude_of_central_meridian :</span></dt><dd>105.0</dd><dt><span>false_easting :</span></dt><dd>500000.0</dd><dt><span>false_northing :</span></dt><dd>0.0</dd><dt><span>scale_factor_at_central_meridian :</span></dt><dd>0.9996</dd></dl></div><div class='xr-var-data'><pre>array(32648, dtype=int32)</pre></div></li><li class='xr-var-item'><div class='xr-var-name'><span>time</span></div><div class='xr-var-dims'>()</div><div class='xr-var-dtype'>datetime64[ns]</div><div class='xr-var-preview xr-preview'>2020-12-27T22:45:28.898478</div><input id='attrs-26d925c6-f4b4-4a45-a7b5-f4c6368167c0' class='xr-var-attrs-in' type='checkbox' disabled><label for='attrs-26d925c6-f4b4-4a45-a7b5-f4c6368167c0' title='Show/Hide attributes'><svg class='icon xr-icon-file-text2'><use xlink:href='#icon-file-text2'></use></svg></label><input id='data-6816297b-6e1f-47f6-b5f8-86b475f81040' class='xr-var-data-in' type='checkbox'><label for='data-6816297b-6e1f-47f6-b5f8-86b475f81040' title='Show/Hide data repr'><svg class='icon xr-icon-database'><use xlink:href='#icon-database'></use></svg></label><div class='xr-var-attrs'><dl class='xr-attrs'></dl></div><div class='xr-var-data'><pre>array(&#x27;2020-12-27T22:45:28.898478000&#x27;, dtype=&#x27;datetime64[ns]&#x27;)</pre></div></li></ul></div></li><li class='xr-section-item'><input id='section-4a7d8f43-2f56-4b3f-9a09-8fb5f7ef4095' class='xr-section-summary-in' type='checkbox'  checked><label for='section-4a7d8f43-2f56-4b3f-9a09-8fb5f7ef4095' class='xr-section-summary' >Data variables: <span>(2)</span></label><div class='xr-section-inline-details'></div><div class='xr-section-details'><ul class='xr-var-list'><li class='xr-var-item'><div class='xr-var-name'><span>vh</span></div><div class='xr-var-dims'>(y, x)</div><div class='xr-var-dtype'>float32</div><div class='xr-var-preview xr-preview'>0.004257</div><input id='attrs-23d3a1d5-868f-42c2-acb2-709796eebf80' class='xr-var-attrs-in' type='checkbox' ><label for='attrs-23d3a1d5-868f-42c2-acb2-709796eebf80' title='Show/Hide attributes'><svg class='icon xr-icon-file-text2'><use xlink:href='#icon-file-text2'></use></svg></label><input id='data-0e82bdad-60fc-4a86-a1cc-d701723736ad' class='xr-var-data-in' type='checkbox'><label for='data-0e82bdad-60fc-4a86-a1cc-d701723736ad' title='Show/Hide data repr'><svg class='icon xr-icon-database'><use xlink:href='#icon-database'></use></svg></label><div class='xr-var-attrs'><dl class='xr-attrs'><dt><span>nodata :</span></dt><dd>-32768</dd></dl></div><div class='xr-var-data'><pre>array([[0.00425714]], dtype=float32)</pre></div></li><li class='xr-var-item'><div class='xr-var-name'><span>vv</span></div><div class='xr-var-dims'>(y, x)</div><div class='xr-var-dtype'>float32</div><div class='xr-var-preview xr-preview'>0.1367</div><input id='attrs-b0039aa2-0e40-4db8-b2a4-c5f521c1c5b4' class='xr-var-attrs-in' type='checkbox' ><label for='attrs-b0039aa2-0e40-4db8-b2a4-c5f521c1c5b4' title='Show/Hide attributes'><svg class='icon xr-icon-file-text2'><use xlink:href='#icon-file-text2'></use></svg></label><input id='data-81696079-b4df-47b7-b4cf-fd2f22b0c8df' class='xr-var-data-in' type='checkbox'><label for='data-81696079-b4df-47b7-b4cf-fd2f22b0c8df' title='Show/Hide data repr'><svg class='icon xr-icon-database'><use xlink:href='#icon-database'></use></svg></label><div class='xr-var-attrs'><dl class='xr-attrs'><dt><span>nodata :</span></dt><dd>-32768</dd></dl></div><div class='xr-var-data'><pre>array([[0.13671276]], dtype=float32)</pre></div></li></ul></div></li><li class='xr-section-item'><input id='section-4f380535-2abf-452b-b93a-826a1d8caa18' class='xr-section-summary-in' type='checkbox'  ><label for='section-4f380535-2abf-452b-b93a-826a1d8caa18' class='xr-section-summary' >Indexes: <span>(2)</span></label><div class='xr-section-inline-details'></div><div class='xr-section-details'><ul class='xr-var-list'><li class='xr-var-item'><div class='xr-index-name'><div>y</div></div><div class='xr-index-preview'>PandasIndex</div><div></div><input id='index-45f192b7-65c4-49a3-86f5-0ef608197a48' class='xr-index-data-in' type='checkbox'/><label for='index-45f192b7-65c4-49a3-86f5-0ef608197a48' title='Show/Hide index repr'><svg class='icon xr-icon-database'><use xlink:href='#icon-database'></use></svg></label><div class='xr-index-data'><pre>PandasIndex(Float64Index([1141215.0], dtype=&#x27;float64&#x27;, name=&#x27;y&#x27;))</pre></div></li><li class='xr-var-item'><div class='xr-index-name'><div>x</div></div><div class='xr-index-preview'>PandasIndex</div><div></div><input id='index-b990cbc2-4b06-4663-b1b1-9d71c104c816' class='xr-index-data-in' type='checkbox'/><label for='index-b990cbc2-4b06-4663-b1b1-9d71c104c816' title='Show/Hide index repr'><svg class='icon xr-icon-database'><use xlink:href='#icon-database'></use></svg></label><div class='xr-index-data'><pre>PandasIndex(Float64Index([527555.0], dtype=&#x27;float64&#x27;, name=&#x27;x&#x27;))</pre></div></li></ul></div></li><li class='xr-section-item'><input id='section-634a3b1f-86a8-4205-9b4e-9beeff4fe572' class='xr-section-summary-in' type='checkbox' disabled ><label for='section-634a3b1f-86a8-4205-9b4e-9beeff4fe572' class='xr-section-summary'  title='Expand/collapse section'>Attributes: <span>(0)</span></label><div class='xr-section-inline-details'></div><div class='xr-section-details'><dl class='xr-attrs'></dl></div></li></ul></div></div>"
      ],
      "text/plain": [
       "<xarray.Dataset>\n",
       "Dimensions:      (y: 1, x: 1)\n",
       "Coordinates:\n",
       "  * y            (y) float64 1.141e+06\n",
       "  * x            (x) float64 5.276e+05\n",
       "    spatial_ref  int32 32648\n",
       "    time         datetime64[ns] 2020-12-27T22:45:28.898478\n",
       "Data variables:\n",
       "    vh           (y, x) float32 0.004257\n",
       "    vv           (y, x) float32 0.1367"
      ]
     },
     "execution_count": 77,
     "metadata": {},
     "output_type": "execute_result"
    }
   ],
   "source": [
    "data"
   ]
  },
  {
   "cell_type": "code",
   "execution_count": 61,
   "id": "88b253f2",
   "metadata": {},
   "outputs": [],
   "source": [
    "## Function call to extract VV,VH Values\n",
    "time_slice = \"2020-03-20/2021-03-21\"\n",
    "assests = ['vh','vv']\n",
    "vh_vv = []\n",
    "# for coordinates in tqdm(crop_presence_data['Latitude and Longitude']):\n",
    "#     vh_vv.append(get_sentinel_data(coordinates,time_slice,assests))\n",
    "# vh_vv_data = pd.DataFrame(vh_vv,columns =['vh','vv'])"
   ]
  },
  {
   "cell_type": "code",
   "execution_count": 53,
   "id": "0fd4fbf6",
   "metadata": {},
   "outputs": [
    {
     "data": {
      "text/html": [
       "<div>\n",
       "<style scoped>\n",
       "    .dataframe tbody tr th:only-of-type {\n",
       "        vertical-align: middle;\n",
       "    }\n",
       "\n",
       "    .dataframe tbody tr th {\n",
       "        vertical-align: top;\n",
       "    }\n",
       "\n",
       "    .dataframe thead th {\n",
       "        text-align: right;\n",
       "    }\n",
       "</style>\n",
       "<table border=\"1\" class=\"dataframe\">\n",
       "  <thead>\n",
       "    <tr style=\"text-align: right;\">\n",
       "      <th></th>\n",
       "      <th>Latitude and Longitude</th>\n",
       "      <th>Class of Land</th>\n",
       "    </tr>\n",
       "  </thead>\n",
       "  <tbody>\n",
       "    <tr>\n",
       "      <th>0</th>\n",
       "      <td>(10.323727047081501, 105.2516346045924)</td>\n",
       "      <td>Rice</td>\n",
       "    </tr>\n",
       "    <tr>\n",
       "      <th>1</th>\n",
       "      <td>(10.322364360592521, 105.27843410554115)</td>\n",
       "      <td>Rice</td>\n",
       "    </tr>\n",
       "    <tr>\n",
       "      <th>2</th>\n",
       "      <td>(10.321455902933202, 105.25254306225168)</td>\n",
       "      <td>Rice</td>\n",
       "    </tr>\n",
       "    <tr>\n",
       "      <th>3</th>\n",
       "      <td>(10.324181275911162, 105.25118037576274)</td>\n",
       "      <td>Rice</td>\n",
       "    </tr>\n",
       "    <tr>\n",
       "      <th>4</th>\n",
       "      <td>(10.324635504740822, 105.27389181724476)</td>\n",
       "      <td>Rice</td>\n",
       "    </tr>\n",
       "  </tbody>\n",
       "</table>\n",
       "</div>"
      ],
      "text/plain": [
       "                     Latitude and Longitude Class of Land\n",
       "0   (10.323727047081501, 105.2516346045924)          Rice\n",
       "1  (10.322364360592521, 105.27843410554115)          Rice\n",
       "2  (10.321455902933202, 105.25254306225168)          Rice\n",
       "3  (10.324181275911162, 105.25118037576274)          Rice\n",
       "4  (10.324635504740822, 105.27389181724476)          Rice"
      ]
     },
     "metadata": {},
     "output_type": "display_data"
    },
    {
     "data": {
      "text/html": [
       "<div>\n",
       "<style scoped>\n",
       "    .dataframe tbody tr th:only-of-type {\n",
       "        vertical-align: middle;\n",
       "    }\n",
       "\n",
       "    .dataframe tbody tr th {\n",
       "        vertical-align: top;\n",
       "    }\n",
       "\n",
       "    .dataframe thead th {\n",
       "        text-align: right;\n",
       "    }\n",
       "</style>\n",
       "<table border=\"1\" class=\"dataframe\">\n",
       "  <thead>\n",
       "    <tr style=\"text-align: right;\">\n",
       "      <th></th>\n",
       "      <th>0</th>\n",
       "      <th>1</th>\n",
       "      <th>2</th>\n",
       "      <th>3</th>\n",
       "      <th>4</th>\n",
       "      <th>5</th>\n",
       "      <th>6</th>\n",
       "      <th>7</th>\n",
       "      <th>8</th>\n",
       "      <th>9</th>\n",
       "      <th>...</th>\n",
       "      <th>76</th>\n",
       "      <th>77</th>\n",
       "      <th>78</th>\n",
       "      <th>79</th>\n",
       "      <th>80</th>\n",
       "      <th>81</th>\n",
       "      <th>82</th>\n",
       "      <th>83</th>\n",
       "      <th>84</th>\n",
       "      <th>85</th>\n",
       "    </tr>\n",
       "  </thead>\n",
       "  <tbody>\n",
       "    <tr>\n",
       "      <th>0</th>\n",
       "      <td>0.136713</td>\n",
       "      <td>0.019095</td>\n",
       "      <td>0.052516</td>\n",
       "      <td>0.113325</td>\n",
       "      <td>0.180918</td>\n",
       "      <td>0.084581</td>\n",
       "      <td>0.236054</td>\n",
       "      <td>0.138249</td>\n",
       "      <td>0.222160</td>\n",
       "      <td>0.082468</td>\n",
       "      <td>...</td>\n",
       "      <td>0.072585</td>\n",
       "      <td>0.100532</td>\n",
       "      <td>0.147335</td>\n",
       "      <td>NaN</td>\n",
       "      <td>NaN</td>\n",
       "      <td>NaN</td>\n",
       "      <td>NaN</td>\n",
       "      <td>NaN</td>\n",
       "      <td>NaN</td>\n",
       "      <td>NaN</td>\n",
       "    </tr>\n",
       "    <tr>\n",
       "      <th>1</th>\n",
       "      <td>0.008367</td>\n",
       "      <td>0.073629</td>\n",
       "      <td>0.013057</td>\n",
       "      <td>0.102261</td>\n",
       "      <td>0.183774</td>\n",
       "      <td>0.112656</td>\n",
       "      <td>0.119053</td>\n",
       "      <td>0.125759</td>\n",
       "      <td>0.184625</td>\n",
       "      <td>0.052343</td>\n",
       "      <td>...</td>\n",
       "      <td>0.112408</td>\n",
       "      <td>0.367571</td>\n",
       "      <td>0.253594</td>\n",
       "      <td>NaN</td>\n",
       "      <td>NaN</td>\n",
       "      <td>NaN</td>\n",
       "      <td>NaN</td>\n",
       "      <td>NaN</td>\n",
       "      <td>NaN</td>\n",
       "      <td>NaN</td>\n",
       "    </tr>\n",
       "    <tr>\n",
       "      <th>2</th>\n",
       "      <td>0.103548</td>\n",
       "      <td>0.036345</td>\n",
       "      <td>0.078220</td>\n",
       "      <td>0.217244</td>\n",
       "      <td>0.307188</td>\n",
       "      <td>0.277898</td>\n",
       "      <td>0.113407</td>\n",
       "      <td>0.082699</td>\n",
       "      <td>0.146055</td>\n",
       "      <td>0.026883</td>\n",
       "      <td>...</td>\n",
       "      <td>0.049105</td>\n",
       "      <td>0.397772</td>\n",
       "      <td>0.136151</td>\n",
       "      <td>NaN</td>\n",
       "      <td>NaN</td>\n",
       "      <td>NaN</td>\n",
       "      <td>NaN</td>\n",
       "      <td>NaN</td>\n",
       "      <td>NaN</td>\n",
       "      <td>NaN</td>\n",
       "    </tr>\n",
       "    <tr>\n",
       "      <th>3</th>\n",
       "      <td>0.112445</td>\n",
       "      <td>0.039681</td>\n",
       "      <td>0.022097</td>\n",
       "      <td>0.074011</td>\n",
       "      <td>0.240549</td>\n",
       "      <td>0.296535</td>\n",
       "      <td>0.072409</td>\n",
       "      <td>0.135074</td>\n",
       "      <td>0.096405</td>\n",
       "      <td>0.059797</td>\n",
       "      <td>...</td>\n",
       "      <td>0.099842</td>\n",
       "      <td>0.183957</td>\n",
       "      <td>0.230961</td>\n",
       "      <td>NaN</td>\n",
       "      <td>NaN</td>\n",
       "      <td>NaN</td>\n",
       "      <td>NaN</td>\n",
       "      <td>NaN</td>\n",
       "      <td>NaN</td>\n",
       "      <td>NaN</td>\n",
       "    </tr>\n",
       "    <tr>\n",
       "      <th>4</th>\n",
       "      <td>0.041582</td>\n",
       "      <td>0.012306</td>\n",
       "      <td>0.049128</td>\n",
       "      <td>0.104897</td>\n",
       "      <td>0.099337</td>\n",
       "      <td>0.077988</td>\n",
       "      <td>0.367231</td>\n",
       "      <td>0.664374</td>\n",
       "      <td>0.036919</td>\n",
       "      <td>0.331721</td>\n",
       "      <td>...</td>\n",
       "      <td>0.125112</td>\n",
       "      <td>0.175304</td>\n",
       "      <td>0.111650</td>\n",
       "      <td>NaN</td>\n",
       "      <td>NaN</td>\n",
       "      <td>NaN</td>\n",
       "      <td>NaN</td>\n",
       "      <td>NaN</td>\n",
       "      <td>NaN</td>\n",
       "      <td>NaN</td>\n",
       "    </tr>\n",
       "  </tbody>\n",
       "</table>\n",
       "<p>5 rows × 86 columns</p>\n",
       "</div>"
      ],
      "text/plain": [
       "          0         1         2         3         4         5         6  \\\n",
       "0  0.136713  0.019095  0.052516  0.113325  0.180918  0.084581  0.236054   \n",
       "1  0.008367  0.073629  0.013057  0.102261  0.183774  0.112656  0.119053   \n",
       "2  0.103548  0.036345  0.078220  0.217244  0.307188  0.277898  0.113407   \n",
       "3  0.112445  0.039681  0.022097  0.074011  0.240549  0.296535  0.072409   \n",
       "4  0.041582  0.012306  0.049128  0.104897  0.099337  0.077988  0.367231   \n",
       "\n",
       "          7         8         9  ...        76        77        78  79  80  \\\n",
       "0  0.138249  0.222160  0.082468  ...  0.072585  0.100532  0.147335 NaN NaN   \n",
       "1  0.125759  0.184625  0.052343  ...  0.112408  0.367571  0.253594 NaN NaN   \n",
       "2  0.082699  0.146055  0.026883  ...  0.049105  0.397772  0.136151 NaN NaN   \n",
       "3  0.135074  0.096405  0.059797  ...  0.099842  0.183957  0.230961 NaN NaN   \n",
       "4  0.664374  0.036919  0.331721  ...  0.125112  0.175304  0.111650 NaN NaN   \n",
       "\n",
       "   81  82  83  84  85  \n",
       "0 NaN NaN NaN NaN NaN  \n",
       "1 NaN NaN NaN NaN NaN  \n",
       "2 NaN NaN NaN NaN NaN  \n",
       "3 NaN NaN NaN NaN NaN  \n",
       "4 NaN NaN NaN NaN NaN  \n",
       "\n",
       "[5 rows x 86 columns]"
      ]
     },
     "metadata": {},
     "output_type": "display_data"
    }
   ],
   "source": [
    "crop_presence_data = pd.read_csv(\"./Data/Crop_Location_Data_20221201.csv\")\n",
    "display(crop_presence_data.head())\n",
    "aux_data = pd.read_csv(\"./Data/S1Data.csv\",index_col=0)\n",
    "display(aux_data.head())"
   ]
  },
  {
   "cell_type": "code",
   "execution_count": 36,
   "id": "c8d32733",
   "metadata": {},
   "outputs": [],
   "source": [
    "data=pd.concat([crop_presence_data,aux_data],axis=1)\n",
    "data.drop(['Latitude and Longitude'],axis=1,inplace=True)\n",
    "miss_rate=data.apply(lambda x: 1-x.isna().value_counts()[False]/len(x),axis=0)\n",
    "# drop columns with missing rate > 0.5\n",
    "data.drop(miss_rate[miss_rate>0.1].index,axis=1,inplace=True)\n",
    "data.replace([-32768.000000],np.nan,inplace=True)\n",
    "target_value=data['Class of Land'].apply(lambda x: 1 if x=='Rice' else 0)\n",
    "data.drop(['Class of Land'],axis=1,inplace=True)\n",
    "# fill missing values with mean\n",
    "data.fillna(data.mean(axis=0),inplace=True)"
   ]
  },
  {
   "cell_type": "code",
   "execution_count": 37,
   "id": "b9457eea",
   "metadata": {},
   "outputs": [],
   "source": [
    "# Loading Test Data\n",
    "os.makedirs('./Submission_Data',exist_ok=True)\n",
    "submit_fp ='./Submission_Data/'\n",
    "submission_df = pd.read_csv('./Data/challenge_1_submission_template_correct_columns_fixed.csv')\n",
    "\n",
    "replace_data,save_test_file = False,\"./Data/Test_Data_VV.csv\"\n",
    "if not os.path.exists(save_test_file) or replace_data:\n",
    "    # extract data\n",
    "    pass\n",
    "test_data = pd.read_csv(save_test_file,index_col=0)\n",
    "test_data=test_data.loc[:,data.columns]\n",
    "test_data.replace([-32768.000000],np.nan,inplace=True)\n",
    "test_data.fillna(data.mean(axis=0),inplace=True)\n",
    "X_test = test_data.values\n"
   ]
  },
  {
   "attachments": {},
   "cell_type": "markdown",
   "id": "1517535a",
   "metadata": {},
   "source": [
    "##### Model Evaluation"
   ]
  },
  {
   "cell_type": "code",
   "execution_count": 38,
   "id": "123b56dc",
   "metadata": {},
   "outputs": [],
   "source": [
    "# Tensorflow check cuda availability\n",
    "devices_=tf.config.list_physical_devices('GPU')\n",
    "# tf.config.set_logical_device_configuration(device=devices_[0],logical_devices=[tf.config.LogicalDeviceConfiguration(memory_limit=1024*22)])"
   ]
  },
  {
   "cell_type": "code",
   "execution_count": 39,
   "id": "194e3a71",
   "metadata": {},
   "outputs": [],
   "source": [
    "# Sequenial Keras model 2 LSTM Layer with 10 neurons each and 1 Dense layer with 1 neuron\n",
    "model = keras.Sequential()\n",
    "model.add(layers.Input(shape=(79,1)))\n",
    "model.add(layers.LSTM(50,return_sequences=True))\n",
    "model.add(layers.LSTM(50))\n",
    "model.add(layers.Dense(2, activation='softmax'))\n",
    "model.compile(loss='sparse_categorical_crossentropy', optimizer=keras.optimizers.Adam(0.001), metrics=['accuracy'])\n"
   ]
  },
  {
   "cell_type": "code",
   "execution_count": 40,
   "id": "626628b7",
   "metadata": {},
   "outputs": [],
   "source": [
    "BATCH_SIZE=32\n",
    "EPOCHS=100"
   ]
  },
  {
   "cell_type": "code",
   "execution_count": 41,
   "id": "d44fb15f",
   "metadata": {},
   "outputs": [],
   "source": [
    "# Split the data into train and test using sklearn random split\n",
    "from sklearn.model_selection import train_test_split\n",
    "X_train, X_val, y_train, y_val = train_test_split(data, target_value, test_size=0.3, random_state=42)\n",
    "\n",
    "# Convert the data into numpy array and reshape the data to fit the model\n",
    "X_train = X_train.to_numpy().reshape(-1,79,1)\n",
    "X_val = X_val.to_numpy().reshape(-1,79,1)\n",
    "y_train = y_train.to_numpy().reshape(-1,1)\n",
    "y_val = y_val.to_numpy().reshape(-1,1)"
   ]
  },
  {
   "cell_type": "code",
   "execution_count": 47,
   "id": "905d2140",
   "metadata": {},
   "outputs": [
    {
     "name": "stdout",
     "output_type": "stream",
     "text": [
      "Epoch 1/100\n",
      "15/15 [==============================] - 0s 26ms/step - loss: 0.1193 - accuracy: 0.9667 - val_loss: 0.1815 - val_accuracy: 0.9333\n",
      "Epoch 2/100\n",
      "15/15 [==============================] - 0s 21ms/step - loss: 0.1153 - accuracy: 0.9667 - val_loss: 0.2007 - val_accuracy: 0.9250\n",
      "Epoch 3/100\n",
      "15/15 [==============================] - 0s 22ms/step - loss: 0.1175 - accuracy: 0.9646 - val_loss: 0.1796 - val_accuracy: 0.9167\n",
      "Epoch 4/100\n",
      "15/15 [==============================] - 0s 23ms/step - loss: 0.1172 - accuracy: 0.9667 - val_loss: 0.1439 - val_accuracy: 0.9583\n",
      "Epoch 5/100\n",
      "15/15 [==============================] - 0s 21ms/step - loss: 0.1352 - accuracy: 0.9604 - val_loss: 0.2662 - val_accuracy: 0.9083\n",
      "Epoch 6/100\n",
      "15/15 [==============================] - 0s 22ms/step - loss: 0.1492 - accuracy: 0.9542 - val_loss: 0.1785 - val_accuracy: 0.9250\n",
      "Epoch 7/100\n",
      "15/15 [==============================] - 0s 21ms/step - loss: 0.1311 - accuracy: 0.9604 - val_loss: 0.2502 - val_accuracy: 0.9000\n",
      "Epoch 8/100\n",
      "15/15 [==============================] - 0s 21ms/step - loss: 0.1064 - accuracy: 0.9729 - val_loss: 0.1476 - val_accuracy: 0.9583\n",
      "Epoch 9/100\n",
      "15/15 [==============================] - 0s 21ms/step - loss: 0.1165 - accuracy: 0.9688 - val_loss: 0.1867 - val_accuracy: 0.9167\n",
      "Epoch 10/100\n",
      "15/15 [==============================] - 0s 21ms/step - loss: 0.1083 - accuracy: 0.9708 - val_loss: 0.1367 - val_accuracy: 0.9583\n",
      "Epoch 11/100\n",
      "15/15 [==============================] - 0s 21ms/step - loss: 0.1196 - accuracy: 0.9667 - val_loss: 0.1822 - val_accuracy: 0.9250\n",
      "Epoch 12/100\n",
      "15/15 [==============================] - 0s 22ms/step - loss: 0.1023 - accuracy: 0.9729 - val_loss: 0.1624 - val_accuracy: 0.9333\n",
      "Epoch 13/100\n",
      "15/15 [==============================] - 0s 21ms/step - loss: 0.1073 - accuracy: 0.9688 - val_loss: 0.1750 - val_accuracy: 0.9333\n",
      "Epoch 14/100\n",
      "15/15 [==============================] - 0s 22ms/step - loss: 0.1115 - accuracy: 0.9708 - val_loss: 0.1598 - val_accuracy: 0.9500\n",
      "Epoch 15/100\n",
      "15/15 [==============================] - 0s 22ms/step - loss: 0.1267 - accuracy: 0.9604 - val_loss: 0.1561 - val_accuracy: 0.9417\n",
      "Epoch 16/100\n",
      "15/15 [==============================] - 0s 22ms/step - loss: 0.1106 - accuracy: 0.9688 - val_loss: 0.1480 - val_accuracy: 0.9583\n",
      "Epoch 17/100\n",
      "15/15 [==============================] - 0s 22ms/step - loss: 0.1086 - accuracy: 0.9729 - val_loss: 0.1455 - val_accuracy: 0.9583\n",
      "Epoch 18/100\n",
      "15/15 [==============================] - 0s 21ms/step - loss: 0.1122 - accuracy: 0.9708 - val_loss: 0.1769 - val_accuracy: 0.9333\n",
      "Epoch 19/100\n",
      "15/15 [==============================] - 0s 24ms/step - loss: 0.1131 - accuracy: 0.9688 - val_loss: 0.1384 - val_accuracy: 0.9667\n",
      "Epoch 20/100\n",
      "15/15 [==============================] - 0s 21ms/step - loss: 0.1095 - accuracy: 0.9688 - val_loss: 0.1477 - val_accuracy: 0.9583\n",
      "Epoch 21/100\n",
      "15/15 [==============================] - 0s 21ms/step - loss: 0.1048 - accuracy: 0.9729 - val_loss: 0.2532 - val_accuracy: 0.9000\n",
      "Epoch 22/100\n",
      "15/15 [==============================] - 0s 22ms/step - loss: 0.1324 - accuracy: 0.9646 - val_loss: 0.1583 - val_accuracy: 0.9333\n",
      "Epoch 23/100\n",
      "15/15 [==============================] - 0s 21ms/step - loss: 0.1336 - accuracy: 0.9604 - val_loss: 0.1329 - val_accuracy: 0.9583\n",
      "Epoch 24/100\n",
      "15/15 [==============================] - 0s 21ms/step - loss: 0.1345 - accuracy: 0.9604 - val_loss: 0.1059 - val_accuracy: 0.9583\n",
      "Epoch 25/100\n",
      "15/15 [==============================] - 0s 22ms/step - loss: 0.1272 - accuracy: 0.9646 - val_loss: 0.1615 - val_accuracy: 0.9333\n",
      "Epoch 26/100\n",
      "15/15 [==============================] - 0s 22ms/step - loss: 0.1211 - accuracy: 0.9625 - val_loss: 0.2378 - val_accuracy: 0.9000\n",
      "Epoch 27/100\n",
      "15/15 [==============================] - 0s 22ms/step - loss: 0.1145 - accuracy: 0.9604 - val_loss: 0.1627 - val_accuracy: 0.9333\n",
      "Epoch 28/100\n",
      "15/15 [==============================] - 0s 22ms/step - loss: 0.1073 - accuracy: 0.9729 - val_loss: 0.1437 - val_accuracy: 0.9667\n",
      "Epoch 29/100\n",
      "15/15 [==============================] - 0s 22ms/step - loss: 0.1290 - accuracy: 0.9542 - val_loss: 0.1356 - val_accuracy: 0.9583\n",
      "Epoch 30/100\n",
      "15/15 [==============================] - 0s 22ms/step - loss: 0.1129 - accuracy: 0.9667 - val_loss: 0.2458 - val_accuracy: 0.9083\n",
      "Epoch 31/100\n",
      "15/15 [==============================] - 0s 20ms/step - loss: 0.1386 - accuracy: 0.9646 - val_loss: 0.1353 - val_accuracy: 0.9583\n",
      "Epoch 32/100\n",
      "15/15 [==============================] - 0s 20ms/step - loss: 0.1085 - accuracy: 0.9729 - val_loss: 0.1810 - val_accuracy: 0.9250\n",
      "Epoch 33/100\n",
      "15/15 [==============================] - 0s 21ms/step - loss: 0.1016 - accuracy: 0.9729 - val_loss: 0.1339 - val_accuracy: 0.9583\n",
      "Epoch 34/100\n",
      "15/15 [==============================] - 0s 19ms/step - loss: 0.1174 - accuracy: 0.9688 - val_loss: 0.2121 - val_accuracy: 0.9083\n",
      "Epoch 35/100\n",
      "15/15 [==============================] - 0s 20ms/step - loss: 0.1231 - accuracy: 0.9646 - val_loss: 0.2129 - val_accuracy: 0.9167\n",
      "Epoch 36/100\n",
      "15/15 [==============================] - 0s 21ms/step - loss: 0.1214 - accuracy: 0.9667 - val_loss: 0.1333 - val_accuracy: 0.9583\n",
      "Epoch 37/100\n",
      "15/15 [==============================] - 0s 20ms/step - loss: 0.1077 - accuracy: 0.9667 - val_loss: 0.1321 - val_accuracy: 0.9583\n",
      "Epoch 38/100\n",
      "15/15 [==============================] - 0s 20ms/step - loss: 0.1614 - accuracy: 0.9500 - val_loss: 0.2259 - val_accuracy: 0.9250\n",
      "Epoch 39/100\n",
      "15/15 [==============================] - 0s 21ms/step - loss: 0.1548 - accuracy: 0.9521 - val_loss: 0.1500 - val_accuracy: 0.9417\n",
      "Epoch 40/100\n",
      "15/15 [==============================] - 0s 20ms/step - loss: 0.1110 - accuracy: 0.9667 - val_loss: 0.1184 - val_accuracy: 0.9583\n",
      "Epoch 41/100\n",
      "15/15 [==============================] - 0s 20ms/step - loss: 0.1104 - accuracy: 0.9729 - val_loss: 0.1774 - val_accuracy: 0.9250\n",
      "Epoch 42/100\n",
      "15/15 [==============================] - 0s 20ms/step - loss: 0.1101 - accuracy: 0.9688 - val_loss: 0.1469 - val_accuracy: 0.9500\n",
      "Epoch 43/100\n",
      "15/15 [==============================] - 0s 21ms/step - loss: 0.1037 - accuracy: 0.9750 - val_loss: 0.1484 - val_accuracy: 0.9583\n",
      "Epoch 44/100\n",
      "15/15 [==============================] - 0s 20ms/step - loss: 0.1008 - accuracy: 0.9708 - val_loss: 0.1795 - val_accuracy: 0.9333\n",
      "Epoch 45/100\n",
      "15/15 [==============================] - 0s 20ms/step - loss: 0.1113 - accuracy: 0.9688 - val_loss: 0.2222 - val_accuracy: 0.9083\n",
      "Epoch 46/100\n",
      "15/15 [==============================] - 0s 19ms/step - loss: 0.1134 - accuracy: 0.9604 - val_loss: 0.1950 - val_accuracy: 0.9250\n",
      "Epoch 47/100\n",
      "15/15 [==============================] - 0s 19ms/step - loss: 0.1166 - accuracy: 0.9625 - val_loss: 0.1339 - val_accuracy: 0.9667\n",
      "Epoch 48/100\n",
      "15/15 [==============================] - 0s 21ms/step - loss: 0.1043 - accuracy: 0.9688 - val_loss: 0.1348 - val_accuracy: 0.9583\n",
      "Epoch 49/100\n",
      "15/15 [==============================] - 0s 19ms/step - loss: 0.1267 - accuracy: 0.9583 - val_loss: 0.1836 - val_accuracy: 0.9333\n",
      "Epoch 50/100\n",
      "15/15 [==============================] - 0s 19ms/step - loss: 0.1291 - accuracy: 0.9625 - val_loss: 0.1933 - val_accuracy: 0.9333\n",
      "Epoch 51/100\n",
      "15/15 [==============================] - 0s 24ms/step - loss: 0.1143 - accuracy: 0.9688 - val_loss: 0.1102 - val_accuracy: 0.9750\n",
      "Epoch 52/100\n",
      "15/15 [==============================] - 0s 22ms/step - loss: 0.1075 - accuracy: 0.9688 - val_loss: 0.1148 - val_accuracy: 0.9750\n",
      "Epoch 53/100\n",
      "15/15 [==============================] - 0s 22ms/step - loss: 0.1187 - accuracy: 0.9646 - val_loss: 0.2071 - val_accuracy: 0.9167\n",
      "Epoch 54/100\n",
      "15/15 [==============================] - 0s 23ms/step - loss: 0.1011 - accuracy: 0.9708 - val_loss: 0.1268 - val_accuracy: 0.9583\n",
      "Epoch 55/100\n",
      "15/15 [==============================] - 0s 22ms/step - loss: 0.1064 - accuracy: 0.9750 - val_loss: 0.1478 - val_accuracy: 0.9500\n",
      "Epoch 56/100\n",
      "15/15 [==============================] - 0s 22ms/step - loss: 0.1119 - accuracy: 0.9625 - val_loss: 0.1329 - val_accuracy: 0.9667\n",
      "Epoch 57/100\n",
      "15/15 [==============================] - 0s 21ms/step - loss: 0.1055 - accuracy: 0.9729 - val_loss: 0.1605 - val_accuracy: 0.9333\n",
      "Epoch 58/100\n",
      "15/15 [==============================] - 0s 21ms/step - loss: 0.1019 - accuracy: 0.9771 - val_loss: 0.1851 - val_accuracy: 0.9333\n",
      "Epoch 59/100\n",
      "15/15 [==============================] - 0s 21ms/step - loss: 0.1040 - accuracy: 0.9750 - val_loss: 0.1321 - val_accuracy: 0.9667\n",
      "Epoch 60/100\n",
      "15/15 [==============================] - 0s 22ms/step - loss: 0.1028 - accuracy: 0.9708 - val_loss: 0.1400 - val_accuracy: 0.9583\n",
      "Epoch 61/100\n",
      "15/15 [==============================] - 0s 22ms/step - loss: 0.1053 - accuracy: 0.9708 - val_loss: 0.1271 - val_accuracy: 0.9667\n",
      "Epoch 62/100\n",
      "15/15 [==============================] - 0s 21ms/step - loss: 0.1269 - accuracy: 0.9604 - val_loss: 0.2239 - val_accuracy: 0.9083\n",
      "Epoch 63/100\n",
      "15/15 [==============================] - 0s 21ms/step - loss: 0.1083 - accuracy: 0.9729 - val_loss: 0.1482 - val_accuracy: 0.9417\n",
      "Epoch 64/100\n",
      "15/15 [==============================] - 0s 21ms/step - loss: 0.1449 - accuracy: 0.9500 - val_loss: 0.1326 - val_accuracy: 0.9500\n",
      "Epoch 65/100\n",
      "15/15 [==============================] - 0s 21ms/step - loss: 0.1237 - accuracy: 0.9667 - val_loss: 0.1692 - val_accuracy: 0.9250\n",
      "Epoch 66/100\n",
      "15/15 [==============================] - 0s 21ms/step - loss: 0.1014 - accuracy: 0.9750 - val_loss: 0.1483 - val_accuracy: 0.9333\n",
      "Epoch 67/100\n",
      "15/15 [==============================] - 0s 22ms/step - loss: 0.0990 - accuracy: 0.9771 - val_loss: 0.1411 - val_accuracy: 0.9333\n",
      "Epoch 68/100\n",
      "15/15 [==============================] - 0s 22ms/step - loss: 0.1199 - accuracy: 0.9646 - val_loss: 0.2761 - val_accuracy: 0.9083\n",
      "Epoch 69/100\n",
      "15/15 [==============================] - 0s 21ms/step - loss: 0.1324 - accuracy: 0.9583 - val_loss: 0.1443 - val_accuracy: 0.9500\n",
      "Epoch 70/100\n",
      "15/15 [==============================] - 0s 21ms/step - loss: 0.1123 - accuracy: 0.9688 - val_loss: 0.1362 - val_accuracy: 0.9417\n",
      "Epoch 71/100\n",
      "15/15 [==============================] - 0s 21ms/step - loss: 0.1144 - accuracy: 0.9625 - val_loss: 0.1926 - val_accuracy: 0.9250\n",
      "Epoch 72/100\n",
      "15/15 [==============================] - 0s 21ms/step - loss: 0.1031 - accuracy: 0.9708 - val_loss: 0.1255 - val_accuracy: 0.9667\n",
      "Epoch 73/100\n",
      "15/15 [==============================] - 0s 22ms/step - loss: 0.1078 - accuracy: 0.9729 - val_loss: 0.1150 - val_accuracy: 0.9667\n",
      "Epoch 74/100\n",
      "15/15 [==============================] - 0s 22ms/step - loss: 0.1023 - accuracy: 0.9688 - val_loss: 0.1848 - val_accuracy: 0.9167\n",
      "Epoch 75/100\n",
      "15/15 [==============================] - 0s 22ms/step - loss: 0.1009 - accuracy: 0.9729 - val_loss: 0.1461 - val_accuracy: 0.9417\n",
      "Epoch 76/100\n",
      "15/15 [==============================] - 0s 22ms/step - loss: 0.1118 - accuracy: 0.9625 - val_loss: 0.1079 - val_accuracy: 0.9750\n",
      "Epoch 77/100\n",
      "15/15 [==============================] - 0s 22ms/step - loss: 0.1043 - accuracy: 0.9729 - val_loss: 0.1269 - val_accuracy: 0.9667\n",
      "Epoch 78/100\n",
      "15/15 [==============================] - 0s 21ms/step - loss: 0.1007 - accuracy: 0.9729 - val_loss: 0.1102 - val_accuracy: 0.9750\n",
      "Epoch 79/100\n",
      "15/15 [==============================] - 0s 21ms/step - loss: 0.0962 - accuracy: 0.9771 - val_loss: 0.1137 - val_accuracy: 0.9750\n",
      "Epoch 80/100\n",
      "15/15 [==============================] - 0s 21ms/step - loss: 0.0992 - accuracy: 0.9708 - val_loss: 0.1096 - val_accuracy: 0.9750\n",
      "Epoch 81/100\n",
      "15/15 [==============================] - 0s 21ms/step - loss: 0.0981 - accuracy: 0.9708 - val_loss: 0.1148 - val_accuracy: 0.9750\n",
      "Epoch 82/100\n",
      "15/15 [==============================] - 0s 21ms/step - loss: 0.1007 - accuracy: 0.9688 - val_loss: 0.1300 - val_accuracy: 0.9417\n",
      "Epoch 83/100\n",
      "15/15 [==============================] - 0s 22ms/step - loss: 0.0952 - accuracy: 0.9708 - val_loss: 0.1491 - val_accuracy: 0.9417\n",
      "Epoch 84/100\n",
      "15/15 [==============================] - 0s 21ms/step - loss: 0.0997 - accuracy: 0.9750 - val_loss: 0.1386 - val_accuracy: 0.9667\n",
      "Epoch 85/100\n",
      "15/15 [==============================] - 0s 21ms/step - loss: 0.0971 - accuracy: 0.9771 - val_loss: 0.1259 - val_accuracy: 0.9500\n",
      "Epoch 86/100\n",
      "15/15 [==============================] - 0s 22ms/step - loss: 0.1061 - accuracy: 0.9667 - val_loss: 0.1799 - val_accuracy: 0.9333\n",
      "Epoch 87/100\n",
      "15/15 [==============================] - 0s 22ms/step - loss: 0.0922 - accuracy: 0.9729 - val_loss: 0.1078 - val_accuracy: 0.9750\n",
      "Epoch 88/100\n",
      "15/15 [==============================] - 0s 22ms/step - loss: 0.0970 - accuracy: 0.9688 - val_loss: 0.1046 - val_accuracy: 0.9750\n",
      "Epoch 89/100\n",
      "15/15 [==============================] - 0s 22ms/step - loss: 0.0910 - accuracy: 0.9771 - val_loss: 0.1340 - val_accuracy: 0.9417\n",
      "Epoch 90/100\n",
      "15/15 [==============================] - 0s 22ms/step - loss: 0.0921 - accuracy: 0.9750 - val_loss: 0.1104 - val_accuracy: 0.9750\n",
      "Epoch 91/100\n",
      "15/15 [==============================] - 0s 22ms/step - loss: 0.1019 - accuracy: 0.9708 - val_loss: 0.1044 - val_accuracy: 0.9750\n",
      "Epoch 92/100\n",
      "15/15 [==============================] - 0s 21ms/step - loss: 0.0998 - accuracy: 0.9729 - val_loss: 0.1645 - val_accuracy: 0.9333\n",
      "Epoch 93/100\n",
      "15/15 [==============================] - 0s 22ms/step - loss: 0.0937 - accuracy: 0.9771 - val_loss: 0.1229 - val_accuracy: 0.9500\n",
      "Epoch 94/100\n",
      "15/15 [==============================] - 0s 21ms/step - loss: 0.0996 - accuracy: 0.9750 - val_loss: 0.1266 - val_accuracy: 0.9583\n",
      "Epoch 95/100\n",
      "15/15 [==============================] - 0s 22ms/step - loss: 0.1083 - accuracy: 0.9708 - val_loss: 0.1144 - val_accuracy: 0.9750\n",
      "Epoch 96/100\n",
      "15/15 [==============================] - 0s 21ms/step - loss: 0.0972 - accuracy: 0.9729 - val_loss: 0.1317 - val_accuracy: 0.9500\n",
      "Epoch 97/100\n",
      "15/15 [==============================] - 0s 21ms/step - loss: 0.0940 - accuracy: 0.9750 - val_loss: 0.1051 - val_accuracy: 0.9750\n",
      "Epoch 98/100\n",
      "15/15 [==============================] - 0s 22ms/step - loss: 0.0936 - accuracy: 0.9729 - val_loss: 0.1475 - val_accuracy: 0.9417\n",
      "Epoch 99/100\n",
      "15/15 [==============================] - 0s 22ms/step - loss: 0.0935 - accuracy: 0.9729 - val_loss: 0.1160 - val_accuracy: 0.9583\n",
      "Epoch 100/100\n",
      "15/15 [==============================] - 0s 22ms/step - loss: 0.0882 - accuracy: 0.9771 - val_loss: 0.1054 - val_accuracy: 0.9750\n"
     ]
    },
    {
     "data": {
      "text/plain": [
       "<tensorflow.python.checkpoint.checkpoint.CheckpointLoadStatus at 0x7f8ff824df70>"
      ]
     },
     "execution_count": 47,
     "metadata": {},
     "output_type": "execute_result"
    }
   ],
   "source": [
    "# Fit the model with model checkpoint best validation loss and early stopping with patience 5\n",
    "checkpoint_filepath = './checkpoint/'\n",
    "os.makedirs(os.path.dirname(checkpoint_filepath), exist_ok=True)\n",
    "checkpoint_filepath = './checkpoint/checkpoint2'\n",
    "model_checkpoint_callback = tf.keras.callbacks.ModelCheckpoint(\n",
    "    filepath=checkpoint_filepath,\n",
    "    save_weights_only=True,\n",
    "    monitor='val_accuracy',\n",
    "    mode='max',\n",
    "    save_best_only=True)\n",
    "early_stopping = tf.keras.callbacks.EarlyStopping(monitor='val_loss', patience=10)\n",
    "# model.fit(X_train, y_train, epochs=EPOCHS, batch_size=BATCH_SIZE, verbose=1, validation_data=(X_val, y_val), callbacks=[model_checkpoint_callback,early_stopping])\n",
    "model.fit(np.concatenate([X_train,X_val],axis=0), np.concatenate([y_train,y_val],axis=0), epochs=EPOCHS, batch_size=BATCH_SIZE, verbose=1,validation_split=0.2, callbacks=[model_checkpoint_callback])\n",
    "model.load_weights(checkpoint_filepath)\n",
    "# model.evaluate(x=X_val,y=y_val)\n"
   ]
  },
  {
   "cell_type": "code",
   "execution_count": 48,
   "id": "9b65ca7c",
   "metadata": {},
   "outputs": [
    {
     "name": "stdout",
     "output_type": "stream",
     "text": [
      "6/6 [==============================] - 0s 7ms/step - loss: 0.1116 - accuracy: 0.9722\n"
     ]
    },
    {
     "data": {
      "text/plain": [
       "[0.11159838736057281, 0.9722222089767456]"
      ]
     },
     "execution_count": 48,
     "metadata": {},
     "output_type": "execute_result"
    }
   ],
   "source": [
    "model.evaluate(x=X_val,y=y_val)"
   ]
  },
  {
   "cell_type": "code",
   "execution_count": 49,
   "id": "aa601ac2",
   "metadata": {},
   "outputs": [
    {
     "name": "stdout",
     "output_type": "stream",
     "text": [
      "8/8 [==============================] - 0s 7ms/step\n"
     ]
    }
   ],
   "source": [
    "submission_df['target']=model.predict(X_test).argmax(axis=1)\n",
    "submission_df['target']=submission_df['target'].apply(lambda x: 'Rice' if x==1 else 'Non Rice')"
   ]
  },
  {
   "cell_type": "code",
   "execution_count": 50,
   "id": "e1ad32fd",
   "metadata": {},
   "outputs": [],
   "source": [
    "compare_df=pd.read_csv('./Data/Best_submission.csv').rename({'target':'best_target'},axis=1).merge(submission_df,on=['id'],how='left')\n",
    "compare_df['is_equal']=compare_df.apply(lambda x: 1 if x['best_target']==x['target'] else 0,axis=1)"
   ]
  },
  {
   "cell_type": "code",
   "execution_count": 51,
   "id": "85ae994b",
   "metadata": {},
   "outputs": [],
   "source": [
    "submission_df.to_csv(os.path.join(submit_fp,\"Out2.csv\"),index = False)"
   ]
  }
 ],
 "metadata": {
  "kernelspec": {
   "display_name": "ey_challenge",
   "language": "python",
   "name": "python3"
  },
  "language_info": {
   "codemirror_mode": {
    "name": "ipython",
    "version": 3
   },
   "file_extension": ".py",
   "mimetype": "text/x-python",
   "name": "python",
   "nbconvert_exporter": "python",
   "pygments_lexer": "ipython3",
   "version": "3.8.16"
  },
  "vscode": {
   "interpreter": {
    "hash": "60dda4210ba841eca9fd96b68b4a6741ceef0fb40797780df93815b928fbce67"
   }
  }
 },
 "nbformat": 4,
 "nbformat_minor": 5
}
